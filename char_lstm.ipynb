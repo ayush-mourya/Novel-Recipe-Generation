{
 "cells": [
  {
   "cell_type": "markdown",
   "id": "a2bf026c",
   "metadata": {
    "id": "6ab2e043-e257-4956-b4b8-58dcc4d77fd3",
    "papermill": {
     "duration": 0.040325,
     "end_time": "2024-03-16T14:20:57.712921",
     "exception": false,
     "start_time": "2024-03-16T14:20:57.672596",
     "status": "completed"
    },
    "tags": []
   },
   "source": [
    "# Importing the important libraries"
   ]
  },
  {
   "cell_type": "code",
   "execution_count": null,
   "id": "facb667c",
   "metadata": {
    "execution": {
     "iopub.execute_input": "2024-03-16T14:20:57.906945Z",
     "iopub.status.busy": "2024-03-16T14:20:57.906586Z",
     "iopub.status.idle": "2024-03-16T14:21:09.514042Z",
     "shell.execute_reply": "2024-03-16T14:21:09.513038Z"
    },
    "id": "a8292b09-5a39-46aa-8d69-cfecbac3a418",
    "papermill": {
     "duration": 11.648909,
     "end_time": "2024-03-16T14:21:09.516369",
     "exception": false,
     "start_time": "2024-03-16T14:20:57.867460",
     "status": "completed"
    },
    "tags": []
   },
   "outputs": [],
   "source": [
    "# Packages for training the model and working with the dataset.\n",
    "import tensorflow as tf\n",
    "import pandas as pd\n",
    "import matplotlib.pyplot as plt\n",
    "import numpy as np\n",
    "import json\n",
    "\n",
    "# Utility/helper packages.\n",
    "import platform\n",
    "import time\n",
    "import pathlib\n",
    "import os\n",
    "import re"
   ]
  },
  {
   "cell_type": "code",
   "execution_count": null,
   "id": "19554593",
   "metadata": {
    "execution": {
     "iopub.execute_input": "2024-03-16T14:21:09.747722Z",
     "iopub.status.busy": "2024-03-16T14:21:09.747074Z",
     "iopub.status.idle": "2024-03-16T14:21:58.207797Z",
     "shell.execute_reply": "2024-03-16T14:21:58.206892Z"
    },
    "id": "8152512b-7b74-4d10-8e6e-3e4c49fea001",
    "outputId": "cf416071-8877-47dc-9970-7d7e1f1fcdee",
    "papermill": {
     "duration": 48.540898,
     "end_time": "2024-03-16T14:21:58.248996",
     "exception": false,
     "start_time": "2024-03-16T14:21:09.708098",
     "status": "completed"
    },
    "tags": []
   },
   "outputs": [],
   "source": [
    "dataset_raw = pd.read_csv(r'C:\\Users\\Ayush Mourya\\OneDrive\\Desktop\\IIITD\\Novel Recipe Generation\\All CSVs\\recipe_over_2m.csv')\n",
    "dataset_raw = dataset_raw [:10]\n",
    "dataset_raw.head()"
   ]
  },
  {
   "cell_type": "code",
   "execution_count": null,
   "id": "286b42c2",
   "metadata": {
    "execution": {
     "iopub.execute_input": "2024-03-16T14:21:58.405291Z",
     "iopub.status.busy": "2024-03-16T14:21:58.404312Z",
     "iopub.status.idle": "2024-03-16T14:21:58.484634Z",
     "shell.execute_reply": "2024-03-16T14:21:58.483540Z"
    },
    "id": "5ce82336-c095-4d95-9cc9-ec58914cea3c",
    "outputId": "623fffc3-4b80-453c-8945-29be282101cb",
    "papermill": {
     "duration": 0.121706,
     "end_time": "2024-03-16T14:21:58.486650",
     "exception": false,
     "start_time": "2024-03-16T14:21:58.364944",
     "status": "completed"
    },
    "tags": []
   },
   "outputs": [],
   "source": [
    "dataset_raw.info()"
   ]
  },
  {
   "cell_type": "code",
   "execution_count": null,
   "id": "93235a25",
   "metadata": {
    "execution": {
     "iopub.execute_input": "2024-03-16T14:21:58.796171Z",
     "iopub.status.busy": "2024-03-16T14:21:58.795493Z",
     "iopub.status.idle": "2024-03-16T14:22:04.063516Z",
     "shell.execute_reply": "2024-03-16T14:22:04.062723Z"
    },
    "id": "SSWY6cWiPokz",
    "papermill": {
     "duration": 5.31068,
     "end_time": "2024-03-16T14:22:04.066024",
     "exception": false,
     "start_time": "2024-03-16T14:21:58.755344",
     "status": "completed"
    },
    "tags": []
   },
   "outputs": [],
   "source": [
    "dataset_validated = [recipe for recipe in dataset_raw.iterrows()]"
   ]
  },
  {
   "cell_type": "code",
   "execution_count": null,
   "id": "dd724dc4",
   "metadata": {
    "execution": {
     "iopub.execute_input": "2024-03-16T14:22:04.225358Z",
     "iopub.status.busy": "2024-03-16T14:22:04.224979Z",
     "iopub.status.idle": "2024-03-16T14:22:04.229448Z",
     "shell.execute_reply": "2024-03-16T14:22:04.228628Z"
    },
    "id": "2cec2569-9c70-4c7d-b1c3-6c11d202446b",
    "papermill": {
     "duration": 0.046607,
     "end_time": "2024-03-16T14:22:04.231435",
     "exception": false,
     "start_time": "2024-03-16T14:22:04.184828",
     "status": "completed"
    },
    "tags": []
   },
   "outputs": [],
   "source": [
    "STOP_WORD_TITLE = '📕 '\n",
    "STOP_WORD_INGREDIENTS = '\\n🥩\\n\\n'\n",
    "STOP_WORD_INSTRUCTIONS = '\\n✍️\\n\\n'"
   ]
  },
  {
   "cell_type": "code",
   "execution_count": null,
   "id": "8a296e09",
   "metadata": {
    "execution": {
     "iopub.execute_input": "2024-03-16T14:22:04.389537Z",
     "iopub.status.busy": "2024-03-16T14:22:04.389238Z",
     "iopub.status.idle": "2024-03-16T14:22:06.510679Z",
     "shell.execute_reply": "2024-03-16T14:22:06.509612Z"
    },
    "id": "df7e335d-29fe-4002-bc13-ed22a920aea3",
    "outputId": "b18f9225-92fe-4376-b87b-c855cc204606",
    "papermill": {
     "duration": 2.165496,
     "end_time": "2024-03-16T14:22:06.513058",
     "exception": false,
     "start_time": "2024-03-16T14:22:04.347562",
     "status": "completed"
    },
    "tags": []
   },
   "outputs": [],
   "source": [
    "def recipe_to_string(recipe):\n",
    "    recipe = recipe[1]\n",
    "\n",
    "    #title = recipe['recipe_name']\n",
    "    #title = recipe['name']\n",
    "    title = recipe['title']\n",
    "    ingredients = recipe['ingredients']\n",
    "    instructions = recipe['directions']\n",
    "    #instructions = recipe['steps']\n",
    "\n",
    "    ingredients_string = ''\n",
    "    #.strip(\"[]\") removes the square brackets (`[` and `]`) from the string `ingredients`\n",
    "    #.split(', ') splits the string `ingredients` into a list of strings, using the comma and space (`', '`) as the separator\n",
    "    for ingredient in ingredients.strip(\"[]\").split(', '):\n",
    "        if ingredient:\n",
    "            ingredient = ingredient.replace(\"'\", \"\")\n",
    "            ingredients_string += f'• {ingredient}\\n'\n",
    "\n",
    "    instructions_string = ''\n",
    "    for instruction in instructions.strip('][').split(', '):\n",
    "        if instruction:\n",
    "            instruction = instruction.replace(\"'\", \"\")\n",
    "            instructions_string += f'▪︎ {instruction}\\n'\n",
    "\n",
    "    return f'{STOP_WORD_TITLE}{title}\\n{STOP_WORD_INGREDIENTS}{ingredients_string}{STOP_WORD_INSTRUCTIONS}{instructions_string}'\n",
    "\n",
    "dataset_stringified = [recipe_to_string(recipe) for recipe in dataset_validated]\n",
    "\n",
    "for recipe_index, recipe_string in enumerate(dataset_stringified[:5]):\n",
    "    print('Recipe #{}\\n---------'.format(recipe_index + 1))\n",
    "    print(recipe_string)\n",
    "    print('\\n')"
   ]
  },
  {
   "cell_type": "markdown",
   "id": "9360654b",
   "metadata": {
    "id": "76dfcf54-199a-4af7-a52c-4ab12e39ba9d",
    "papermill": {
     "duration": 0.038783,
     "end_time": "2024-03-16T14:22:06.591518",
     "exception": false,
     "start_time": "2024-03-16T14:22:06.552735",
     "status": "completed"
    },
    "tags": []
   },
   "source": [
    "This line prints the value of the 801st element of the `dataset_stringified` list to the console."
   ]
  },
  {
   "cell_type": "code",
   "execution_count": null,
   "id": "c8bc33eb",
   "metadata": {
    "execution": {
     "iopub.execute_input": "2024-03-16T14:22:06.671010Z",
     "iopub.status.busy": "2024-03-16T14:22:06.670442Z",
     "iopub.status.idle": "2024-03-16T14:22:06.675166Z",
     "shell.execute_reply": "2024-03-16T14:22:06.674372Z"
    },
    "id": "7cdfa2b8-0508-4a2e-8781-be225541c070",
    "outputId": "1e438362-e944-4f7e-b86b-b2e28ad870a3",
    "papermill": {
     "duration": 0.04626,
     "end_time": "2024-03-16T14:22:06.677192",
     "exception": false,
     "start_time": "2024-03-16T14:22:06.630932",
     "status": "completed"
    },
    "tags": []
   },
   "outputs": [],
   "source": [
    "print(dataset_stringified[3])"
   ]
  },
  {
   "cell_type": "code",
   "execution_count": null,
   "id": "d5d84a48",
   "metadata": {
    "execution": {
     "iopub.execute_input": "2024-03-16T14:22:06.911557Z",
     "iopub.status.busy": "2024-03-16T14:22:06.911239Z",
     "iopub.status.idle": "2024-03-16T14:22:06.940976Z",
     "shell.execute_reply": "2024-03-16T14:22:06.940299Z"
    },
    "id": "c8e3a3e3-ebf6-4a30-b108-4751ba20dd57",
    "papermill": {
     "duration": 0.071937,
     "end_time": "2024-03-16T14:22:06.942989",
     "exception": false,
     "start_time": "2024-03-16T14:22:06.871052",
     "status": "completed"
    },
    "tags": []
   },
   "outputs": [],
   "source": [
    "recipes_lengths = []\n",
    "for recipe_text in dataset_stringified:\n",
    "    recipes_lengths.append(len(recipe_text))"
   ]
  },
  {
   "cell_type": "code",
   "execution_count": null,
   "id": "a7672ec5",
   "metadata": {
    "execution": {
     "iopub.execute_input": "2024-03-16T14:22:07.098430Z",
     "iopub.status.busy": "2024-03-16T14:22:07.098150Z",
     "iopub.status.idle": "2024-03-16T14:22:07.726401Z",
     "shell.execute_reply": "2024-03-16T14:22:07.725489Z"
    },
    "id": "0b7bb5df-461a-4030-8e51-0455e6d036ef",
    "outputId": "f0ee1fd8-32df-421a-feca-ee873cf61562",
    "papermill": {
     "duration": 0.669646,
     "end_time": "2024-03-16T14:22:07.728352",
     "exception": false,
     "start_time": "2024-03-16T14:22:07.058706",
     "status": "completed"
    },
    "tags": []
   },
   "outputs": [],
   "source": [
    "plt.hist(recipes_lengths, bins=50)\n",
    "plt.show()"
   ]
  },
  {
   "cell_type": "code",
   "execution_count": null,
   "id": "d2007731",
   "metadata": {
    "execution": {
     "iopub.execute_input": "2024-03-16T14:22:07.887064Z",
     "iopub.status.busy": "2024-03-16T14:22:07.886754Z",
     "iopub.status.idle": "2024-03-16T14:22:08.512278Z",
     "shell.execute_reply": "2024-03-16T14:22:08.511355Z"
    },
    "id": "0d46e90b-7345-4555-ba86-66b269dbcd3d",
    "outputId": "919075b7-71cd-45b3-cae5-85958cbeacef",
    "papermill": {
     "duration": 0.668097,
     "end_time": "2024-03-16T14:22:08.514518",
     "exception": false,
     "start_time": "2024-03-16T14:22:07.846421",
     "status": "completed"
    },
    "tags": []
   },
   "outputs": [],
   "source": [
    "plt.hist(recipes_lengths,range=(0,2000), bins=50)\n",
    "plt.show()"
   ]
  },
  {
   "cell_type": "code",
   "execution_count": null,
   "id": "d6d78cb9",
   "metadata": {
    "execution": {
     "iopub.execute_input": "2024-03-16T14:22:08.675952Z",
     "iopub.status.busy": "2024-03-16T14:22:08.675554Z",
     "iopub.status.idle": "2024-03-16T14:22:08.679883Z",
     "shell.execute_reply": "2024-03-16T14:22:08.679041Z"
    },
    "id": "67ec05aa-c770-49ad-b669-22649a150b85",
    "papermill": {
     "duration": 0.047455,
     "end_time": "2024-03-16T14:22:08.681764",
     "exception": false,
     "start_time": "2024-03-16T14:22:08.634309",
     "status": "completed"
    },
    "tags": []
   },
   "outputs": [],
   "source": [
    "MAX_RECIPE_LENGTH = 750"
   ]
  },
  {
   "cell_type": "code",
   "execution_count": null,
   "id": "dd7ed254",
   "metadata": {
    "execution": {
     "iopub.execute_input": "2024-03-16T14:22:08.842528Z",
     "iopub.status.busy": "2024-03-16T14:22:08.842225Z",
     "iopub.status.idle": "2024-03-16T14:22:08.876152Z",
     "shell.execute_reply": "2024-03-16T14:22:08.875230Z"
    },
    "id": "6aa21610-b7d7-431a-8d18-3f62ab9ab853",
    "outputId": "d29812ae-b733-4c25-c885-bc89fbf7ac94",
    "papermill": {
     "duration": 0.076818,
     "end_time": "2024-03-16T14:22:08.877998",
     "exception": false,
     "start_time": "2024-03-16T14:22:08.801180",
     "status": "completed"
    },
    "tags": []
   },
   "outputs": [],
   "source": [
    "def filter_max_recipes_by_length(recipe_test):\n",
    "    return (len(recipe_test) <= MAX_RECIPE_LENGTH)\n",
    "\n",
    "dataset_max_filtered = [recipe_text for recipe_text in dataset_stringified if filter_max_recipes_by_length(recipe_text)]\n",
    "\n",
    "print('Dataset size BEFORE filtering length: ', len(dataset_stringified))\n",
    "print('Dataset size AFTER filtering length: ', len(dataset_max_filtered))\n",
    "print('Number of eliminated recipes length: ', len(dataset_stringified) - len(dataset_max_filtered))"
   ]
  },
  {
   "cell_type": "code",
   "execution_count": null,
   "id": "363606c4",
   "metadata": {
    "execution": {
     "iopub.execute_input": "2024-03-16T14:22:09.043829Z",
     "iopub.status.busy": "2024-03-16T14:22:09.043496Z",
     "iopub.status.idle": "2024-03-16T14:22:09.661471Z",
     "shell.execute_reply": "2024-03-16T14:22:09.660594Z"
    },
    "id": "7sfxqNpiSFWg",
    "outputId": "c1e782e0-aa99-4266-9b23-d83b59649dba",
    "papermill": {
     "duration": 0.662215,
     "end_time": "2024-03-16T14:22:09.663657",
     "exception": false,
     "start_time": "2024-03-16T14:22:09.001442",
     "status": "completed"
    },
    "tags": []
   },
   "outputs": [],
   "source": [
    "plt.hist(recipes_lengths,range=(0,750), bins=50)\n",
    "plt.show()"
   ]
  },
  {
   "cell_type": "code",
   "execution_count": null,
   "id": "877880a6",
   "metadata": {
    "execution": {
     "iopub.execute_input": "2024-03-16T14:22:09.826346Z",
     "iopub.status.busy": "2024-03-16T14:22:09.826023Z",
     "iopub.status.idle": "2024-03-16T14:22:09.830109Z",
     "shell.execute_reply": "2024-03-16T14:22:09.829217Z"
    },
    "id": "8e0e0791-76d7-49ae-bbc8-83e858dc7ea2",
    "papermill": {
     "duration": 0.046795,
     "end_time": "2024-03-16T14:22:09.832004",
     "exception": false,
     "start_time": "2024-03-16T14:22:09.785209",
     "status": "completed"
    },
    "tags": []
   },
   "outputs": [],
   "source": [
    "MIN_RECIPE_LENGTH = 250"
   ]
  },
  {
   "cell_type": "code",
   "execution_count": null,
   "id": "ed0c15c3",
   "metadata": {
    "execution": {
     "iopub.execute_input": "2024-03-16T14:22:09.998994Z",
     "iopub.status.busy": "2024-03-16T14:22:09.998069Z",
     "iopub.status.idle": "2024-03-16T14:22:10.030493Z",
     "shell.execute_reply": "2024-03-16T14:22:10.029515Z"
    },
    "id": "bbe8e2b9-a82b-4792-b515-360b41fd74c2",
    "outputId": "9f158793-2e43-4fb8-b82c-d833d65f2035",
    "papermill": {
     "duration": 0.076623,
     "end_time": "2024-03-16T14:22:10.032503",
     "exception": false,
     "start_time": "2024-03-16T14:22:09.955880",
     "status": "completed"
    },
    "tags": []
   },
   "outputs": [],
   "source": [
    "def filter_min_recipes_by_length(recipe_test):\n",
    "    return (len(recipe_test) >= MIN_RECIPE_LENGTH)\n",
    "\n",
    "dataset_filtered = [recipe_text for recipe_text in dataset_max_filtered if filter_min_recipes_by_length(recipe_text)]\n",
    "\n",
    "print('Dataset size BEFORE filtering length: ', len(dataset_max_filtered))\n",
    "print('Dataset size AFTER filtering length: ', len(dataset_filtered))\n",
    "print('Number of eliminated recipes length: ', len(dataset_max_filtered) - len(dataset_filtered))"
   ]
  },
  {
   "cell_type": "code",
   "execution_count": null,
   "id": "60d64f17",
   "metadata": {
    "execution": {
     "iopub.execute_input": "2024-03-16T14:22:10.195231Z",
     "iopub.status.busy": "2024-03-16T14:22:10.194878Z",
     "iopub.status.idle": "2024-03-16T14:22:10.802410Z",
     "shell.execute_reply": "2024-03-16T14:22:10.801611Z"
    },
    "id": "6FkPGLYySeu3",
    "outputId": "0fa8785e-0fe4-4732-f9c8-280fdcbbb600",
    "papermill": {
     "duration": 0.651766,
     "end_time": "2024-03-16T14:22:10.804790",
     "exception": false,
     "start_time": "2024-03-16T14:22:10.153024",
     "status": "completed"
    },
    "tags": []
   },
   "outputs": [],
   "source": [
    "plt.hist(recipes_lengths,range=(250,750), bins=50)\n",
    "plt.show()"
   ]
  },
  {
   "cell_type": "code",
   "execution_count": null,
   "id": "b841d0f6",
   "metadata": {
    "execution": {
     "iopub.execute_input": "2024-03-16T14:22:11.050327Z",
     "iopub.status.busy": "2024-03-16T14:22:11.049530Z",
     "iopub.status.idle": "2024-03-16T14:22:11.053596Z",
     "shell.execute_reply": "2024-03-16T14:22:11.052726Z"
    },
    "id": "c2b39050-db4d-4f87-9c1d-5ee64433b178",
    "papermill": {
     "duration": 0.047166,
     "end_time": "2024-03-16T14:22:11.055448",
     "exception": false,
     "start_time": "2024-03-16T14:22:11.008282",
     "status": "completed"
    },
    "tags": []
   },
   "outputs": [],
   "source": [
    "# Indicator of the end of the recipe.\n",
    "STOP_SIGN = '␣'"
   ]
  },
  {
   "cell_type": "code",
   "execution_count": null,
   "id": "681647e4",
   "metadata": {
    "execution": {
     "iopub.execute_input": "2024-03-16T14:22:11.217498Z",
     "iopub.status.busy": "2024-03-16T14:22:11.216852Z",
     "iopub.status.idle": "2024-03-16T14:22:11.309653Z",
     "shell.execute_reply": "2024-03-16T14:22:11.308916Z"
    },
    "id": "28cba549-2212-4734-80f0-331c125c0950",
    "papermill": {
     "duration": 0.136473,
     "end_time": "2024-03-16T14:22:11.311700",
     "exception": false,
     "start_time": "2024-03-16T14:22:11.175227",
     "status": "completed"
    },
    "tags": []
   },
   "outputs": [],
   "source": [
    "tokenizer = tf.keras.preprocessing.text.Tokenizer(\n",
    "    char_level=True,\n",
    "    filters='',\n",
    "    lower=False,\n",
    "    split=''\n",
    ")"
   ]
  },
  {
   "cell_type": "code",
   "execution_count": null,
   "id": "226a08ac",
   "metadata": {
    "execution": {
     "iopub.execute_input": "2024-03-16T14:22:11.487934Z",
     "iopub.status.busy": "2024-03-16T14:22:11.487076Z",
     "iopub.status.idle": "2024-03-16T14:22:11.491626Z",
     "shell.execute_reply": "2024-03-16T14:22:11.490629Z"
    },
    "id": "dcd428e7-018b-409b-bcb3-cab4db71e7ab",
    "papermill": {
     "duration": 0.050314,
     "end_time": "2024-03-16T14:22:11.493523",
     "exception": false,
     "start_time": "2024-03-16T14:22:11.443209",
     "status": "completed"
    },
    "tags": []
   },
   "outputs": [],
   "source": [
    "# Stop word is not a part of recipes, but tokenizer must know about it as well.\n",
    "tokenizer.fit_on_texts([STOP_SIGN])"
   ]
  },
  {
   "cell_type": "code",
   "execution_count": null,
   "id": "28900ccf",
   "metadata": {
    "execution": {
     "iopub.execute_input": "2024-03-16T14:22:11.662766Z",
     "iopub.status.busy": "2024-03-16T14:22:11.662323Z",
     "iopub.status.idle": "2024-03-16T14:22:20.430420Z",
     "shell.execute_reply": "2024-03-16T14:22:20.429482Z"
    },
    "id": "084a2ef7-f319-434f-b9db-8118bc899960",
    "papermill": {
     "duration": 8.812825,
     "end_time": "2024-03-16T14:22:20.432877",
     "exception": false,
     "start_time": "2024-03-16T14:22:11.620052",
     "status": "completed"
    },
    "tags": []
   },
   "outputs": [],
   "source": [
    "tokenizer.fit_on_texts(dataset_filtered)"
   ]
  },
  {
   "cell_type": "code",
   "execution_count": null,
   "id": "8abbf989",
   "metadata": {
    "execution": {
     "iopub.execute_input": "2024-03-16T14:22:20.597488Z",
     "iopub.status.busy": "2024-03-16T14:22:20.596870Z",
     "iopub.status.idle": "2024-03-16T14:22:20.603607Z",
     "shell.execute_reply": "2024-03-16T14:22:20.602706Z"
    },
    "id": "20ef8d4a-a623-40d6-801c-9396e24f1d00",
    "outputId": "37f3c399-e8fb-4825-ec1b-faaa596bd7c8",
    "papermill": {
     "duration": 0.050318,
     "end_time": "2024-03-16T14:22:20.605548",
     "exception": false,
     "start_time": "2024-03-16T14:22:20.555230",
     "status": "completed"
    },
    "tags": []
   },
   "outputs": [],
   "source": [
    "tokenizer.get_config()"
   ]
  },
  {
   "cell_type": "code",
   "execution_count": null,
   "id": "000aae76",
   "metadata": {
    "execution": {
     "iopub.execute_input": "2024-03-16T14:22:20.769997Z",
     "iopub.status.busy": "2024-03-16T14:22:20.769633Z",
     "iopub.status.idle": "2024-03-16T14:22:20.774776Z",
     "shell.execute_reply": "2024-03-16T14:22:20.773785Z"
    },
    "id": "1fd50226-2b26-472b-a529-0fe57abf2139",
    "outputId": "afcd9a6f-bf4e-4021-b586-12a913b9c51c",
    "papermill": {
     "duration": 0.049085,
     "end_time": "2024-03-16T14:22:20.776681",
     "exception": false,
     "start_time": "2024-03-16T14:22:20.727596",
     "status": "completed"
    },
    "tags": []
   },
   "outputs": [],
   "source": [
    "# Adding +1 to take into account a special unassigned 0 index.\n",
    "VOCABULARY_SIZE = len(tokenizer.word_counts) + 1\n",
    "\n",
    "print('VOCABULARY_SIZE: ', VOCABULARY_SIZE)"
   ]
  },
  {
   "cell_type": "code",
   "execution_count": null,
   "id": "bd20ef9a",
   "metadata": {
    "execution": {
     "iopub.execute_input": "2024-03-16T14:22:20.940310Z",
     "iopub.status.busy": "2024-03-16T14:22:20.939938Z",
     "iopub.status.idle": "2024-03-16T14:22:20.944841Z",
     "shell.execute_reply": "2024-03-16T14:22:20.943950Z"
    },
    "id": "d86125d9-d3b2-4f33-9bc0-66d5ef851e03",
    "outputId": "2c5dea4e-ce4f-4497-afde-56361d0e7d6a",
    "papermill": {
     "duration": 0.048888,
     "end_time": "2024-03-16T14:22:20.947064",
     "exception": false,
     "start_time": "2024-03-16T14:22:20.898176",
     "status": "completed"
    },
    "tags": []
   },
   "outputs": [],
   "source": [
    "print(tokenizer.index_word[21])"
   ]
  },
  {
   "cell_type": "markdown",
   "id": "10eaa763",
   "metadata": {
    "id": "da001dde-0a75-4d7d-805e-01bc0704284d",
    "papermill": {
     "duration": 0.040768,
     "end_time": "2024-03-16T14:22:21.028160",
     "exception": false,
     "start_time": "2024-03-16T14:22:20.987392",
     "status": "completed"
    },
    "tags": []
   },
   "source": [
    "This code is printing the index of the word m in the tokenizer's vocabulary"
   ]
  },
  {
   "cell_type": "code",
   "execution_count": null,
   "id": "e9b8285e",
   "metadata": {
    "execution": {
     "iopub.execute_input": "2024-03-16T14:22:21.110669Z",
     "iopub.status.busy": "2024-03-16T14:22:21.110084Z",
     "iopub.status.idle": "2024-03-16T14:22:21.115690Z",
     "shell.execute_reply": "2024-03-16T14:22:21.114881Z"
    },
    "id": "ddbd0283-e0ba-42f0-89dc-59f7719fd871",
    "outputId": "2705de20-a257-4eb1-a564-efb3ec33bb75",
    "papermill": {
     "duration": 0.049145,
     "end_time": "2024-03-16T14:22:21.117664",
     "exception": false,
     "start_time": "2024-03-16T14:22:21.068519",
     "status": "completed"
    },
    "tags": []
   },
   "outputs": [],
   "source": [
    "tokenizer.word_index['m']"
   ]
  },
  {
   "cell_type": "code",
   "execution_count": null,
   "id": "f937a495",
   "metadata": {
    "execution": {
     "iopub.execute_input": "2024-03-16T14:22:21.281819Z",
     "iopub.status.busy": "2024-03-16T14:22:21.281245Z",
     "iopub.status.idle": "2024-03-16T14:22:21.286425Z",
     "shell.execute_reply": "2024-03-16T14:22:21.285616Z"
    },
    "id": "85a6b042-68aa-4733-9b83-c69080f15853",
    "outputId": "9767e1e1-c5dc-4259-bb8e-ce2b9e47c776",
    "papermill": {
     "duration": 0.048495,
     "end_time": "2024-03-16T14:22:21.288183",
     "exception": false,
     "start_time": "2024-03-16T14:22:21.239688",
     "status": "completed"
    },
    "tags": []
   },
   "outputs": [],
   "source": [
    "# For demo application we need to have an array of characters as vocabulary.\n",
    "array_vocabulary = tokenizer.sequences_to_texts([[word_index] for word_index in range(VOCABULARY_SIZE)])\n",
    "print([char for char in array_vocabulary])"
   ]
  },
  {
   "cell_type": "code",
   "execution_count": null,
   "id": "aa2a8c84",
   "metadata": {
    "execution": {
     "iopub.execute_input": "2024-03-16T14:22:21.456843Z",
     "iopub.status.busy": "2024-03-16T14:22:21.456129Z",
     "iopub.status.idle": "2024-03-16T14:22:21.461838Z",
     "shell.execute_reply": "2024-03-16T14:22:21.461013Z"
    },
    "id": "f62fdada-f44d-45be-ab3a-d4fd673fca7d",
    "outputId": "02f8c3ea-457e-4682-9266-0699a368cb61",
    "papermill": {
     "duration": 0.05294,
     "end_time": "2024-03-16T14:22:21.463845",
     "exception": false,
     "start_time": "2024-03-16T14:22:21.410905",
     "status": "completed"
    },
    "tags": []
   },
   "outputs": [],
   "source": [
    "tokenizer.texts_to_sequences(['🥩 meat'])"
   ]
  },
  {
   "cell_type": "code",
   "execution_count": null,
   "id": "0f4c3e40",
   "metadata": {
    "execution": {
     "iopub.execute_input": "2024-03-16T14:22:21.710118Z",
     "iopub.status.busy": "2024-03-16T14:22:21.709790Z",
     "iopub.status.idle": "2024-03-16T14:22:30.711809Z",
     "shell.execute_reply": "2024-03-16T14:22:30.710776Z"
    },
    "id": "8d79c158-a292-462a-b0f8-a42f1980f9c8",
    "outputId": "9f939127-ae33-442c-ce72-0d0c175530b8",
    "papermill": {
     "duration": 9.046548,
     "end_time": "2024-03-16T14:22:30.714246",
     "exception": false,
     "start_time": "2024-03-16T14:22:21.667698",
     "status": "completed"
    },
    "tags": []
   },
   "outputs": [],
   "source": [
    "dataset_vectorized = tokenizer.texts_to_sequences(dataset_filtered)\n",
    "\n",
    "print('Vectorized dataset size', len(dataset_vectorized))"
   ]
  },
  {
   "cell_type": "code",
   "execution_count": null,
   "id": "afffe494",
   "metadata": {
    "execution": {
     "iopub.execute_input": "2024-03-16T14:22:30.881547Z",
     "iopub.status.busy": "2024-03-16T14:22:30.881223Z",
     "iopub.status.idle": "2024-03-16T14:22:30.886495Z",
     "shell.execute_reply": "2024-03-16T14:22:30.885622Z"
    },
    "id": "c581f957-335f-440c-8b99-da5f41c78691",
    "papermill": {
     "duration": 0.04955,
     "end_time": "2024-03-16T14:22:30.888497",
     "exception": false,
     "start_time": "2024-03-16T14:22:30.838947",
     "status": "completed"
    },
    "tags": []
   },
   "outputs": [],
   "source": [
    "def recipe_sequence_to_string(recipe_sequence):\n",
    "    recipe_stringified = tokenizer.sequences_to_texts([recipe_sequence])[0] ## msh fahma awi leh 7atena 0\n",
    "    recipe_stringified = re.sub(r'(?<=\\S)\\s(?=\\S)', '', recipe_stringified).replace(\"   \", \" \")\n",
    "    print(recipe_stringified)"
   ]
  },
  {
   "cell_type": "code",
   "execution_count": null,
   "id": "3a0ad15a",
   "metadata": {
    "execution": {
     "iopub.execute_input": "2024-03-16T14:22:31.054110Z",
     "iopub.status.busy": "2024-03-16T14:22:31.053441Z",
     "iopub.status.idle": "2024-03-16T14:22:31.058322Z",
     "shell.execute_reply": "2024-03-16T14:22:31.057493Z"
    },
    "id": "f8be5f8e-5ec1-42b5-b2db-a8f6b9a9dcc9",
    "outputId": "debb1873-34a1-456e-c63c-f4252f4a38bc",
    "papermill": {
     "duration": 0.049849,
     "end_time": "2024-03-16T14:22:31.060908",
     "exception": false,
     "start_time": "2024-03-16T14:22:31.011059",
     "status": "completed"
    },
    "tags": []
   },
   "outputs": [],
   "source": [
    "recipe_sequence_to_string(dataset_vectorized[99])"
   ]
  },
  {
   "cell_type": "markdown",
   "id": "15401353",
   "metadata": {
    "id": "f61a079f-2a3e-497f-bc83-c935d806f56e",
    "papermill": {
     "duration": 0.040723,
     "end_time": "2024-03-16T14:22:31.143220",
     "exception": false,
     "start_time": "2024-03-16T14:22:31.102497",
     "status": "completed"
    },
    "tags": []
   },
   "source": [
    "### Add padding to sequences"
   ]
  },
  {
   "cell_type": "markdown",
   "id": "b69b4966",
   "metadata": {
    "id": "1837316c-cbdc-4395-a703-fa9229146f3f",
    "papermill": {
     "duration": 0.04099,
     "end_time": "2024-03-16T14:22:31.225232",
     "exception": false,
     "start_time": "2024-03-16T14:22:31.184242",
     "status": "completed"
    },
    "tags": []
   },
   "source": [
    "This code iterates over the first 20 elements of the list `dataset_vectorized` and print the length of it"
   ]
  },
  {
   "cell_type": "code",
   "execution_count": null,
   "id": "8a7afc15",
   "metadata": {
    "execution": {
     "iopub.execute_input": "2024-03-16T14:22:31.309679Z",
     "iopub.status.busy": "2024-03-16T14:22:31.308964Z",
     "iopub.status.idle": "2024-03-16T14:22:31.314270Z",
     "shell.execute_reply": "2024-03-16T14:22:31.313337Z"
    },
    "id": "74fe03c5-747c-435e-967e-fa57cc971969",
    "outputId": "0168f309-a483-4155-dc25-cfee081f49c3",
    "papermill": {
     "duration": 0.050189,
     "end_time": "2024-03-16T14:22:31.316459",
     "exception": false,
     "start_time": "2024-03-16T14:22:31.266270",
     "status": "completed"
    },
    "tags": []
   },
   "outputs": [],
   "source": [
    "for recipe_index, recipe in enumerate(dataset_vectorized[:20]):\n",
    "    print('Recipe #{} length: {}'.format(recipe_index + 1, len(recipe)))"
   ]
  },
  {
   "cell_type": "markdown",
   "id": "7e55564a",
   "metadata": {
    "id": "78618d7f-3e6b-4be8-add9-7dd8ee519d34",
    "papermill": {
     "duration": 0.040883,
     "end_time": "2024-03-16T14:22:31.398228",
     "exception": false,
     "start_time": "2024-03-16T14:22:31.357345",
     "status": "completed"
    },
    "tags": []
   },
   "source": [
    "This code prints the variable `MAX_RECIPE_LENGTH` which assigns the maximum length of the recipes"
   ]
  },
  {
   "cell_type": "code",
   "execution_count": null,
   "id": "0f97f5a2",
   "metadata": {
    "execution": {
     "iopub.execute_input": "2024-03-16T14:22:31.483076Z",
     "iopub.status.busy": "2024-03-16T14:22:31.482813Z",
     "iopub.status.idle": "2024-03-16T14:22:31.488144Z",
     "shell.execute_reply": "2024-03-16T14:22:31.487372Z"
    },
    "id": "24af5bba-f8ae-4c66-8d18-6c945351e902",
    "outputId": "e76555c5-65f7-4a37-f441-cd3869f750b2",
    "papermill": {
     "duration": 0.050332,
     "end_time": "2024-03-16T14:22:31.490040",
     "exception": false,
     "start_time": "2024-03-16T14:22:31.439708",
     "status": "completed"
    },
    "tags": []
   },
   "outputs": [],
   "source": [
    "MAX_RECIPE_LENGTH"
   ]
  },
  {
   "cell_type": "code",
   "execution_count": null,
   "id": "df72e022",
   "metadata": {
    "execution": {
     "iopub.execute_input": "2024-03-16T14:22:31.655819Z",
     "iopub.status.busy": "2024-03-16T14:22:31.655510Z",
     "iopub.status.idle": "2024-03-16T14:22:34.078904Z",
     "shell.execute_reply": "2024-03-16T14:22:34.077883Z"
    },
    "id": "8e133d61-298d-4219-85d0-3c12f3b0d5b8",
    "papermill": {
     "duration": 2.467961,
     "end_time": "2024-03-16T14:22:34.081203",
     "exception": false,
     "start_time": "2024-03-16T14:22:31.613242",
     "status": "completed"
    },
    "tags": []
   },
   "outputs": [],
   "source": [
    "dataset_vectorized_padded_without_stops = tf.keras.preprocessing.sequence.pad_sequences(\n",
    "    dataset_vectorized,\n",
    "    padding='post',\n",
    "    truncating='post',\n",
    "    maxlen=MAX_RECIPE_LENGTH-1,\n",
    "    value=tokenizer.texts_to_sequences([STOP_SIGN])[0] # 0 is the index of '␣'\n",
    ")"
   ]
  },
  {
   "cell_type": "markdown",
   "id": "d0de3adc",
   "metadata": {
    "id": "8d190ffb-d144-4a78-b579-751191fd3aef",
    "papermill": {
     "duration": 0.041013,
     "end_time": "2024-03-16T14:22:34.164487",
     "exception": false,
     "start_time": "2024-03-16T14:22:34.123474",
     "status": "completed"
    },
    "tags": []
   },
   "source": [
    "We repeat the function using -1 above and +1 below  to make sure that all recipes will have at least 1 stop sign at the end,"
   ]
  },
  {
   "cell_type": "code",
   "execution_count": null,
   "id": "dc5b92cb",
   "metadata": {
    "execution": {
     "iopub.execute_input": "2024-03-16T14:22:34.248219Z",
     "iopub.status.busy": "2024-03-16T14:22:34.247500Z",
     "iopub.status.idle": "2024-03-16T14:22:34.524533Z",
     "shell.execute_reply": "2024-03-16T14:22:34.523522Z"
    },
    "id": "9391ed7a-7188-45e4-8433-6f74b762f66b",
    "papermill": {
     "duration": 0.321559,
     "end_time": "2024-03-16T14:22:34.526877",
     "exception": false,
     "start_time": "2024-03-16T14:22:34.205318",
     "status": "completed"
    },
    "tags": []
   },
   "outputs": [],
   "source": [
    "dataset_vectorized_padded = tf.keras.preprocessing.sequence.pad_sequences(\n",
    "    dataset_vectorized_padded_without_stops,\n",
    "    padding='post',\n",
    "    truncating='post',\n",
    "    maxlen=MAX_RECIPE_LENGTH+1,\n",
    "    value=tokenizer.texts_to_sequences([STOP_SIGN])[0]\n",
    ")"
   ]
  },
  {
   "cell_type": "markdown",
   "id": "6bcfa78f",
   "metadata": {
    "id": "99b5cc36-16a8-4df5-9a77-c7cd02c8ea27",
    "papermill": {
     "duration": 0.044304,
     "end_time": "2024-03-16T14:22:34.613620",
     "exception": false,
     "start_time": "2024-03-16T14:22:34.569316",
     "status": "completed"
    },
    "tags": []
   },
   "source": [
    "This code iterates over the first 20 elements of the list `dataset_vectorized_padded` and print the length of it"
   ]
  },
  {
   "cell_type": "code",
   "execution_count": null,
   "id": "1e20be22",
   "metadata": {
    "execution": {
     "iopub.execute_input": "2024-03-16T14:22:34.700648Z",
     "iopub.status.busy": "2024-03-16T14:22:34.699898Z",
     "iopub.status.idle": "2024-03-16T14:22:34.705489Z",
     "shell.execute_reply": "2024-03-16T14:22:34.704555Z"
    },
    "id": "c4c01fa8-3a82-4cb8-923a-f964128284ca",
    "outputId": "951ec5d1-b5fa-458e-9e08-5d725bb9ceb0",
    "papermill": {
     "duration": 0.050163,
     "end_time": "2024-03-16T14:22:34.707492",
     "exception": false,
     "start_time": "2024-03-16T14:22:34.657329",
     "status": "completed"
    },
    "tags": []
   },
   "outputs": [],
   "source": [
    "for recipe_index, recipe in enumerate(dataset_vectorized_padded[:20]):\n",
    "    print('Recipe #{} length: {}'.format(recipe_index, len(recipe)))"
   ]
  },
  {
   "cell_type": "markdown",
   "id": "c7e6c985",
   "metadata": {
    "id": "ZoZqCOjRzoBH",
    "papermill": {
     "duration": 0.04146,
     "end_time": "2024-03-16T14:22:34.790553",
     "exception": false,
     "start_time": "2024-03-16T14:22:34.749093",
     "status": "completed"
    },
    "tags": []
   },
   "source": [
    "### Create TensorFlow dataset"
   ]
  },
  {
   "cell_type": "code",
   "execution_count": null,
   "id": "d9fb4cfa",
   "metadata": {
    "execution": {
     "iopub.execute_input": "2024-03-16T14:22:34.956617Z",
     "iopub.status.busy": "2024-03-16T14:22:34.955949Z",
     "iopub.status.idle": "2024-03-16T14:22:36.054669Z",
     "shell.execute_reply": "2024-03-16T14:22:36.053871Z"
    },
    "id": "fpDdBfO_mD9X",
    "papermill": {
     "duration": 1.143238,
     "end_time": "2024-03-16T14:22:36.057046",
     "exception": false,
     "start_time": "2024-03-16T14:22:34.913808",
     "status": "completed"
    },
    "tags": []
   },
   "outputs": [],
   "source": [
    "dataset = tf.data.Dataset.from_tensor_slices(dataset_vectorized_padded)"
   ]
  },
  {
   "cell_type": "markdown",
   "id": "f782979e",
   "metadata": {
    "id": "ErxoBVX11HDb",
    "papermill": {
     "duration": 0.041682,
     "end_time": "2024-03-16T14:22:36.140691",
     "exception": false,
     "start_time": "2024-03-16T14:22:36.099009",
     "status": "completed"
    },
    "tags": []
   },
   "source": [
    "This line displays information about the dataset, such as the number of elements, the data types of the elements."
   ]
  },
  {
   "cell_type": "code",
   "execution_count": null,
   "id": "42b8353e",
   "metadata": {
    "execution": {
     "iopub.execute_input": "2024-03-16T14:22:36.224899Z",
     "iopub.status.busy": "2024-03-16T14:22:36.224599Z",
     "iopub.status.idle": "2024-03-16T14:22:36.229180Z",
     "shell.execute_reply": "2024-03-16T14:22:36.228305Z"
    },
    "id": "DrRaSXTsmC6J",
    "outputId": "968fa48e-c17e-462b-82f4-f72dad4f1de7",
    "papermill": {
     "duration": 0.049245,
     "end_time": "2024-03-16T14:22:36.231230",
     "exception": false,
     "start_time": "2024-03-16T14:22:36.181985",
     "status": "completed"
    },
    "tags": []
   },
   "outputs": [],
   "source": [
    "print(dataset)"
   ]
  },
  {
   "cell_type": "code",
   "execution_count": null,
   "id": "4b2170d0",
   "metadata": {
    "execution": {
     "iopub.execute_input": "2024-03-16T14:22:36.412381Z",
     "iopub.status.busy": "2024-03-16T14:22:36.412002Z",
     "iopub.status.idle": "2024-03-16T14:22:36.615854Z",
     "shell.execute_reply": "2024-03-16T14:22:36.614817Z"
    },
    "id": "724530bd-3768-461d-9742-c282e10a6c89",
    "outputId": "45bdcb89-0140-4e83-9885-23c424a671e8",
    "papermill": {
     "duration": 0.25678,
     "end_time": "2024-03-16T14:22:36.618670",
     "exception": false,
     "start_time": "2024-03-16T14:22:36.361890",
     "status": "completed"
    },
    "tags": []
   },
   "outputs": [],
   "source": [
    "print('Recipe in tensorflow:\\n', dataset.take(1), '\\n\\n\\n')\n",
    "for recipe in dataset.take(1):\n",
    "        print('Raw recipe:\\n', recipe.numpy(), '\\n\\n\\n')\n",
    "        print('Stringified recipe:\\n')\n",
    "        recipe_sequence_to_string(recipe.numpy())\n"
   ]
  },
  {
   "cell_type": "code",
   "execution_count": null,
   "id": "4731d092",
   "metadata": {
    "execution": {
     "iopub.execute_input": "2024-03-16T14:22:36.804174Z",
     "iopub.status.busy": "2024-03-16T14:22:36.803097Z",
     "iopub.status.idle": "2024-03-16T14:22:36.808103Z",
     "shell.execute_reply": "2024-03-16T14:22:36.807349Z"
    },
    "id": "IKVCLNETTuLp",
    "papermill": {
     "duration": 0.055348,
     "end_time": "2024-03-16T14:22:36.810142",
     "exception": false,
     "start_time": "2024-03-16T14:22:36.754794",
     "status": "completed"
    },
    "tags": []
   },
   "outputs": [],
   "source": [
    "def split_input_target(recipe):\n",
    "    input_text = recipe[:-1]\n",
    "    target_text = recipe[1:]\n",
    "\n",
    "    return input_text, target_text"
   ]
  },
  {
   "cell_type": "code",
   "execution_count": null,
   "id": "5abd8588",
   "metadata": {
    "execution": {
     "iopub.execute_input": "2024-03-16T14:22:36.994164Z",
     "iopub.status.busy": "2024-03-16T14:22:36.993775Z",
     "iopub.status.idle": "2024-03-16T14:22:37.052709Z",
     "shell.execute_reply": "2024-03-16T14:22:37.051651Z"
    },
    "id": "tPzv04iuqQN3",
    "outputId": "82e50429-d1e0-4b74-b769-0bd44b0bc8cd",
    "papermill": {
     "duration": 0.107716,
     "end_time": "2024-03-16T14:22:37.054764",
     "exception": false,
     "start_time": "2024-03-16T14:22:36.947048",
     "status": "completed"
    },
    "tags": []
   },
   "outputs": [],
   "source": [
    "dataset_targeted = dataset.map(split_input_target)\n",
    "\n",
    "print(dataset_targeted)"
   ]
  },
  {
   "cell_type": "code",
   "execution_count": null,
   "id": "f663d130",
   "metadata": {
    "execution": {
     "iopub.execute_input": "2024-03-16T14:22:37.140852Z",
     "iopub.status.busy": "2024-03-16T14:22:37.140561Z",
     "iopub.status.idle": "2024-03-16T14:22:37.145728Z",
     "shell.execute_reply": "2024-03-16T14:22:37.144881Z"
    },
    "papermill": {
     "duration": 0.050366,
     "end_time": "2024-03-16T14:22:37.147547",
     "exception": false,
     "start_time": "2024-03-16T14:22:37.097181",
     "status": "completed"
    },
    "tags": []
   },
   "outputs": [],
   "source": [
    "def split_train_test_data(dataset, train_ratio):\n",
    "    num_samples = len(dataset)\n",
    "    num_train_samples = int(num_samples * train_ratio)\n",
    "    data_train = dataset.take(num_train_samples)\n",
    "    data_test = dataset.skip(num_train_samples)\n",
    "    data_train = list(data_train.as_numpy_iterator())\n",
    "    data_test = list(data_test.as_numpy_iterator())\n",
    "    return data_train, data_test"
   ]
  },
  {
   "cell_type": "code",
   "execution_count": null,
   "id": "ce049990",
   "metadata": {
    "execution": {
     "iopub.execute_input": "2024-03-16T14:22:37.236036Z",
     "iopub.status.busy": "2024-03-16T14:22:37.235422Z",
     "iopub.status.idle": "2024-03-16T14:23:12.913624Z",
     "shell.execute_reply": "2024-03-16T14:23:12.912641Z"
    },
    "papermill": {
     "duration": 35.725921,
     "end_time": "2024-03-16T14:23:12.916100",
     "exception": false,
     "start_time": "2024-03-16T14:22:37.190179",
     "status": "completed"
    },
    "tags": []
   },
   "outputs": [],
   "source": [
    "data_text_list = list(dataset_targeted)\n",
    "\n",
    "data_train, data_test = split_train_test_data(dataset_targeted, 0.7)"
   ]
  },
  {
   "cell_type": "code",
   "execution_count": null,
   "id": "de7d38f0",
   "metadata": {
    "execution": {
     "iopub.execute_input": "2024-03-16T14:23:13.043273Z",
     "iopub.status.busy": "2024-03-16T14:23:13.042441Z",
     "iopub.status.idle": "2024-03-16T14:23:13.049901Z",
     "shell.execute_reply": "2024-03-16T14:23:13.049068Z"
    },
    "papermill": {
     "duration": 0.051995,
     "end_time": "2024-03-16T14:23:13.052018",
     "exception": false,
     "start_time": "2024-03-16T14:23:13.000023",
     "status": "completed"
    },
    "tags": []
   },
   "outputs": [],
   "source": [
    "data_train_subset = data_train[:1]  # Take the first element from the list\n",
    "\n",
    "for input_example, target_example in data_train_subset:\n",
    "    print('Input sequence size:', repr(len(input_example)))\n",
    "    print('Target sequence size:', repr(len(target_example)))\n",
    "    print()\n",
    "\n",
    "    input_stringified = tokenizer.sequences_to_texts([input_example[:50]])[0]\n",
    "    target_stringified = tokenizer.sequences_to_texts([target_example[:50]])[0]\n",
    "\n",
    "    print('Input:  ', repr(''.join(input_stringified)))\n",
    "    print('Target: ', repr(''.join(target_stringified)))"
   ]
  },
  {
   "cell_type": "code",
   "execution_count": null,
   "id": "d8748c2a",
   "metadata": {
    "execution": {
     "iopub.execute_input": "2024-03-16T14:23:13.136463Z",
     "iopub.status.busy": "2024-03-16T14:23:13.136207Z",
     "iopub.status.idle": "2024-03-16T14:23:13.141699Z",
     "shell.execute_reply": "2024-03-16T14:23:13.140851Z"
    },
    "papermill": {
     "duration": 0.049829,
     "end_time": "2024-03-16T14:23:13.143486",
     "exception": false,
     "start_time": "2024-03-16T14:23:13.093657",
     "status": "completed"
    },
    "tags": []
   },
   "outputs": [],
   "source": [
    "len( data_test)"
   ]
  },
  {
   "cell_type": "code",
   "execution_count": null,
   "id": "cbccfe1d",
   "metadata": {
    "execution": {
     "iopub.execute_input": "2024-03-16T14:23:13.227996Z",
     "iopub.status.busy": "2024-03-16T14:23:13.227711Z",
     "iopub.status.idle": "2024-03-16T14:23:13.232992Z",
     "shell.execute_reply": "2024-03-16T14:23:13.232187Z"
    },
    "papermill": {
     "duration": 0.049786,
     "end_time": "2024-03-16T14:23:13.234928",
     "exception": false,
     "start_time": "2024-03-16T14:23:13.185142",
     "status": "completed"
    },
    "tags": []
   },
   "outputs": [],
   "source": [
    "len( data_train)"
   ]
  },
  {
   "cell_type": "code",
   "execution_count": null,
   "id": "4b1d2276",
   "metadata": {
    "execution": {
     "iopub.execute_input": "2024-03-16T14:23:13.321231Z",
     "iopub.status.busy": "2024-03-16T14:23:13.320439Z",
     "iopub.status.idle": "2024-03-16T14:23:13.325919Z",
     "shell.execute_reply": "2024-03-16T14:23:13.325083Z"
    },
    "papermill": {
     "duration": 0.050604,
     "end_time": "2024-03-16T14:23:13.327708",
     "exception": false,
     "start_time": "2024-03-16T14:23:13.277104",
     "status": "completed"
    },
    "tags": []
   },
   "outputs": [],
   "source": [
    "def transform_element(input_target):\n",
    "    input_sequence, target_sequence = input_target[0], input_target[1]\n",
    "\n",
    "    # Apply tf.squeeze() only if the shape is compatible\n",
    "    if input_sequence.shape[-1] == 1:\n",
    "        input_sequence = tf.squeeze(input_sequence, axis=-1)\n",
    "    if target_sequence.shape[-1] == 1:\n",
    "        target_sequence = tf.squeeze(target_sequence, axis=-1)\n",
    "\n",
    "    return input_sequence, target_sequence"
   ]
  },
  {
   "cell_type": "code",
   "execution_count": null,
   "id": "a5c00178",
   "metadata": {
    "execution": {
     "iopub.execute_input": "2024-03-16T14:23:13.496320Z",
     "iopub.status.busy": "2024-03-16T14:23:13.495840Z",
     "iopub.status.idle": "2024-03-16T14:23:13.500246Z",
     "shell.execute_reply": "2024-03-16T14:23:13.499361Z"
    },
    "id": "0bSTqTjnqMhD",
    "outputId": "abd6f2ef-7b66-4bfa-e679-d4ac6caced1b",
    "papermill": {
     "duration": 0.04938,
     "end_time": "2024-03-16T14:23:13.502167",
     "exception": false,
     "start_time": "2024-03-16T14:23:13.452787",
     "status": "completed"
    },
    "tags": []
   },
   "outputs": [],
   "source": [
    "#for input_example, target_example in dataset_targeted.take(1):\n",
    " #   print('Input sequence size:', repr(len(input_example.numpy())))\n",
    "  #  print('Target sequence size:', repr(len(target_example.numpy())))\n",
    "   # print()\n",
    "\n",
    "    #input_stringified = tokenizer.sequences_to_texts([input_example.numpy()[:50]])[0]\n",
    "    #target_stringified = tokenizer.sequences_to_texts([target_example.numpy()[:50]])[0]\n",
    "\n",
    "    \n",
    "    #print('Input:  ', repr(''.join(input_stringified)))\n",
    "    \n",
    "    #print('Target: ', repr(''.join(target_stringified)))"
   ]
  },
  {
   "cell_type": "code",
   "execution_count": null,
   "id": "e06b4514",
   "metadata": {
    "execution": {
     "iopub.execute_input": "2024-03-16T14:23:13.687987Z",
     "iopub.status.busy": "2024-03-16T14:23:13.687210Z",
     "iopub.status.idle": "2024-03-16T14:23:13.691415Z",
     "shell.execute_reply": "2024-03-16T14:23:13.690595Z"
    },
    "id": "QVVxDO3KOklm",
    "outputId": "ce7545e9-afff-4ad5-afd2-55860a74ce23",
    "papermill": {
     "duration": 0.052149,
     "end_time": "2024-03-16T14:23:13.693270",
     "exception": false,
     "start_time": "2024-03-16T14:23:13.641121",
     "status": "completed"
    },
    "tags": []
   },
   "outputs": [],
   "source": [
    "#for i, (input_idx, target_idx) in enumerate(zip(input_example[:10], target_example[:10])):\n",
    " #   print('Step {}:'.format(i + 1))\n",
    "  #  print('  input: {} ({:s})'.format(input_idx, repr(tokenizer.sequences_to_texts([[input_idx.numpy()]])[0])))\n",
    "   # print('  expected output: {} ({:s})'.format(target_idx, repr(tokenizer.sequences_to_texts([[target_idx.numpy()]])[0])))"
   ]
  },
  {
   "cell_type": "markdown",
   "id": "922e274c",
   "metadata": {
    "id": "FvQSGO7y5hHH",
    "papermill": {
     "duration": 0.041798,
     "end_time": "2024-03-16T14:23:13.776804",
     "exception": false,
     "start_time": "2024-03-16T14:23:13.735006",
     "status": "completed"
    },
    "tags": []
   },
   "source": [
    "### Split up the dataset into batches"
   ]
  },
  {
   "cell_type": "markdown",
   "id": "95ccb073",
   "metadata": {
    "id": "G-NeJSZvHRwF",
    "papermill": {
     "duration": 0.041602,
     "end_time": "2024-03-16T14:23:13.860451",
     "exception": false,
     "start_time": "2024-03-16T14:23:13.818849",
     "status": "completed"
    },
    "tags": []
   },
   "source": [
    " This display information about the targeted dataset, such as the number of elements."
   ]
  },
  {
   "cell_type": "code",
   "execution_count": null,
   "id": "bdfc8ee2",
   "metadata": {
    "execution": {
     "iopub.execute_input": "2024-03-16T14:23:13.946995Z",
     "iopub.status.busy": "2024-03-16T14:23:13.946669Z",
     "iopub.status.idle": "2024-03-16T14:23:13.951279Z",
     "shell.execute_reply": "2024-03-16T14:23:13.950376Z"
    },
    "id": "-vAzNdYP2eXl",
    "outputId": "b56d890e-c205-4f96-b8a9-05d5eade0cc3",
    "papermill": {
     "duration": 0.05044,
     "end_time": "2024-03-16T14:23:13.953274",
     "exception": false,
     "start_time": "2024-03-16T14:23:13.902834",
     "status": "completed"
    },
    "tags": []
   },
   "outputs": [],
   "source": [
    "print(dataset_targeted)"
   ]
  },
  {
   "cell_type": "code",
   "execution_count": null,
   "id": "6ad138e5",
   "metadata": {
    "execution": {
     "iopub.execute_input": "2024-03-16T14:23:14.123935Z",
     "iopub.status.busy": "2024-03-16T14:23:14.123296Z",
     "iopub.status.idle": "2024-03-16T14:23:14.137016Z",
     "shell.execute_reply": "2024-03-16T14:23:14.135985Z"
    },
    "id": "JG06vo8o5pXg",
    "outputId": "3616f116-1bbf-4081-9e7f-29c4cf03135d",
    "papermill": {
     "duration": 0.058618,
     "end_time": "2024-03-16T14:23:14.138888",
     "exception": false,
     "start_time": "2024-03-16T14:23:14.080270",
     "status": "completed"
    },
    "tags": []
   },
   "outputs": [],
   "source": [
    "# Batch size.\n",
    "\n",
    "\n",
    "\n",
    "BATCH_SIZE = 64\n",
    "\n",
    "# Buffer size to shuffle the dataset (TF data is designed to work\n",
    "# with possibly infinite sequences, so it doesn't attempt to shuffle\n",
    "# the entire sequence in memory. Instead, it maintains a buffer in\n",
    "# which it shuffles elements).\n",
    "SHUFFLE_BUFFER_SIZE = 1000\n",
    "\n",
    "dataset_train = dataset_targeted.shuffle(SHUFFLE_BUFFER_SIZE).batch(BATCH_SIZE, drop_remainder=True).repeat()\n",
    "\n",
    "print(dataset_train)"
   ]
  },
  {
   "cell_type": "code",
   "execution_count": null,
   "id": "f9b73149",
   "metadata": {
    "execution": {
     "iopub.execute_input": "2024-03-16T14:23:14.309438Z",
     "iopub.status.busy": "2024-03-16T14:23:14.309008Z",
     "iopub.status.idle": "2024-03-16T14:23:14.500414Z",
     "shell.execute_reply": "2024-03-16T14:23:14.499236Z"
    },
    "id": "1BssYJXnD1s0",
    "outputId": "4e890f6a-37ee-468f-e812-e7b479616076",
    "papermill": {
     "duration": 0.237255,
     "end_time": "2024-03-16T14:23:14.503137",
     "exception": false,
     "start_time": "2024-03-16T14:23:14.265882",
     "status": "completed"
    },
    "tags": []
   },
   "outputs": [],
   "source": [
    "for input_text, target_text in dataset_train.take(1):\n",
    "    print('1st batch: input_text:', input_text,'\\n')\n",
    "    print('1st batch: target_text:', target_text,'\\n')"
   ]
  },
  {
   "cell_type": "markdown",
   "id": "e558da65",
   "metadata": {
    "id": "qMFCFS7UXBkV",
    "papermill": {
     "duration": 0.049425,
     "end_time": "2024-03-16T14:23:14.606412",
     "exception": false,
     "start_time": "2024-03-16T14:23:14.556987",
     "status": "completed"
    },
    "tags": []
   },
   "source": [
    "## Build the model"
   ]
  },
  {
   "cell_type": "markdown",
   "id": "e436f14e",
   "metadata": {
    "id": "6dOlyLKPW4HM",
    "papermill": {
     "duration": 0.048092,
     "end_time": "2024-03-16T14:23:14.702940",
     "exception": false,
     "start_time": "2024-03-16T14:23:14.654848",
     "status": "completed"
    },
    "tags": []
   },
   "source": [
    "This print the size of vocabulary"
   ]
  },
  {
   "cell_type": "code",
   "execution_count": null,
   "id": "780045c2",
   "metadata": {
    "execution": {
     "iopub.execute_input": "2024-03-16T14:23:14.795283Z",
     "iopub.status.busy": "2024-03-16T14:23:14.794951Z",
     "iopub.status.idle": "2024-03-16T14:23:14.799617Z",
     "shell.execute_reply": "2024-03-16T14:23:14.798724Z"
    },
    "id": "o3OSe2LqMXsn",
    "outputId": "d109c9ee-ae19-4bee-85a7-96f92d61ab5c",
    "papermill": {
     "duration": 0.052697,
     "end_time": "2024-03-16T14:23:14.801651",
     "exception": false,
     "start_time": "2024-03-16T14:23:14.748954",
     "status": "completed"
    },
    "tags": []
   },
   "outputs": [],
   "source": [
    "print(VOCABULARY_SIZE)"
   ]
  },
  {
   "cell_type": "markdown",
   "id": "f7e809e6",
   "metadata": {
    "id": "cYmpya_5XKUq",
    "papermill": {
     "duration": 0.04213,
     "end_time": "2024-03-16T14:23:14.885917",
     "exception": false,
     "start_time": "2024-03-16T14:23:14.843787",
     "status": "completed"
    },
    "tags": []
   },
   "source": [
    "First line assign the length of `vocab_size` to the actual size of the dataset (`VOCABULARY_SIZE`)\n",
    "\n",
    "Second Line assign the embedding dimension (`embedding_dim`) to 256\n",
    "\n",
    "Third line assign `rnn units` to 1024"
   ]
  },
  {
   "cell_type": "code",
   "execution_count": null,
   "id": "7325f55e",
   "metadata": {
    "execution": {
     "iopub.execute_input": "2024-03-16T14:23:14.972315Z",
     "iopub.status.busy": "2024-03-16T14:23:14.972039Z",
     "iopub.status.idle": "2024-03-16T14:23:14.976113Z",
     "shell.execute_reply": "2024-03-16T14:23:14.975253Z"
    },
    "id": "Fet_96XbTjLd",
    "papermill": {
     "duration": 0.049462,
     "end_time": "2024-03-16T14:23:14.978117",
     "exception": false,
     "start_time": "2024-03-16T14:23:14.928655",
     "status": "completed"
    },
    "tags": []
   },
   "outputs": [],
   "source": [
    "vocab_size = VOCABULARY_SIZE\n",
    "embedding_dim = 256\n",
    "rnn_units = 1024"
   ]
  },
  {
   "cell_type": "code",
   "execution_count": null,
   "id": "5ca8b7d1",
   "metadata": {
    "execution": {
     "iopub.execute_input": "2024-03-16T14:23:15.149141Z",
     "iopub.status.busy": "2024-03-16T14:23:15.148846Z",
     "iopub.status.idle": "2024-03-16T14:23:15.154956Z",
     "shell.execute_reply": "2024-03-16T14:23:15.154095Z"
    },
    "id": "UgE9V7eATmRA",
    "papermill": {
     "duration": 0.051118,
     "end_time": "2024-03-16T14:23:15.156757",
     "exception": false,
     "start_time": "2024-03-16T14:23:15.105639",
     "status": "completed"
    },
    "tags": []
   },
   "outputs": [],
   "source": [
    "def build_model(vocab_size, embedding_dim, rnn_units, batch_size):\n",
    "    model = tf.keras.models.Sequential()\n",
    "\n",
    "    model.add(tf.keras.layers.Embedding(\n",
    "        input_dim=vocab_size,\n",
    "        output_dim=embedding_dim,\n",
    "        batch_input_shape=[batch_size, None]\n",
    "    ))\n",
    "\n",
    "    model.add(tf.keras.layers.LSTM(\n",
    "        units=rnn_units,\n",
    "        return_sequences=True,\n",
    "        stateful=True,\n",
    "        recurrent_initializer=tf.keras.initializers.GlorotNormal()\n",
    "    ))\n",
    "\n",
    "    model.add(tf.keras.layers.Dense(vocab_size))\n",
    "\n",
    "    return model"
   ]
  },
  {
   "cell_type": "code",
   "execution_count": null,
   "id": "e6919042",
   "metadata": {
    "execution": {
     "iopub.execute_input": "2024-03-16T14:23:15.326207Z",
     "iopub.status.busy": "2024-03-16T14:23:15.325931Z",
     "iopub.status.idle": "2024-03-16T14:23:15.679422Z",
     "shell.execute_reply": "2024-03-16T14:23:15.678343Z"
    },
    "id": "T1Y6QELJJolf",
    "outputId": "1b17dc64-729e-4887-8a0b-dcf50debdf18",
    "papermill": {
     "duration": 0.399518,
     "end_time": "2024-03-16T14:23:15.682422",
     "exception": false,
     "start_time": "2024-03-16T14:23:15.282904",
     "status": "completed"
    },
    "tags": []
   },
   "outputs": [],
   "source": [
    "model = build_model(vocab_size, embedding_dim, rnn_units, BATCH_SIZE)\n",
    "\n",
    "model.summary()"
   ]
  },
  {
   "cell_type": "code",
   "execution_count": null,
   "id": "1e986892",
   "metadata": {
    "execution": {
     "iopub.execute_input": "2024-03-16T14:23:15.858653Z",
     "iopub.status.busy": "2024-03-16T14:23:15.858294Z",
     "iopub.status.idle": "2024-03-16T14:23:16.070970Z",
     "shell.execute_reply": "2024-03-16T14:23:16.070063Z"
    },
    "id": "T2eIH2w4PGKM",
    "outputId": "13b9bc0d-f750-4a48-ab7e-5b437f2adf2a",
    "papermill": {
     "duration": 0.25926,
     "end_time": "2024-03-16T14:23:16.072984",
     "exception": false,
     "start_time": "2024-03-16T14:23:15.813724",
     "status": "completed"
    },
    "tags": []
   },
   "outputs": [],
   "source": [
    "tf.keras.utils.plot_model(\n",
    "    model,\n",
    "    show_shapes=True,\n",
    "    show_layer_names=True,\n",
    "    to_file='model.png'\n",
    ")"
   ]
  },
  {
   "cell_type": "markdown",
   "id": "b92055d8",
   "metadata": {
    "id": "--FxwjIiSA9a",
    "papermill": {
     "duration": 0.045813,
     "end_time": "2024-03-16T14:23:16.164307",
     "exception": false,
     "start_time": "2024-03-16T14:23:16.118494",
     "status": "completed"
    },
    "tags": []
   },
   "source": [
    "## Trying The Model"
   ]
  },
  {
   "cell_type": "code",
   "execution_count": null,
   "id": "d4143cc0",
   "metadata": {
    "execution": {
     "iopub.execute_input": "2024-03-16T14:23:16.342246Z",
     "iopub.status.busy": "2024-03-16T14:23:16.341647Z",
     "iopub.status.idle": "2024-03-16T14:23:16.936130Z",
     "shell.execute_reply": "2024-03-16T14:23:16.935174Z"
    },
    "id": "cutwkVoxSLMb",
    "outputId": "0343f09d-4138-43a4-e170-3808c08c6943",
    "papermill": {
     "duration": 0.641825,
     "end_time": "2024-03-16T14:23:16.938351",
     "exception": false,
     "start_time": "2024-03-16T14:23:16.296526",
     "status": "completed"
    },
    "tags": []
   },
   "outputs": [],
   "source": [
    "for input_example_batch, target_example_batch in dataset_train.take(1):\n",
    "    example_batch_predictions = model(input_example_batch)\n",
    "    print(example_batch_predictions.shape, \"# (batch_size, sequence_length, vocab_size)\")"
   ]
  },
  {
   "cell_type": "code",
   "execution_count": null,
   "id": "88723c48",
   "metadata": {
    "execution": {
     "iopub.execute_input": "2024-03-16T14:23:17.120918Z",
     "iopub.status.busy": "2024-03-16T14:23:17.120584Z",
     "iopub.status.idle": "2024-03-16T14:23:17.146300Z",
     "shell.execute_reply": "2024-03-16T14:23:17.145451Z"
    },
    "id": "98agimVpV1Uu",
    "outputId": "3474fdd3-bbc1-4a09-a149-00611ed16229",
    "papermill": {
     "duration": 0.072844,
     "end_time": "2024-03-16T14:23:17.148142",
     "exception": false,
     "start_time": "2024-03-16T14:23:17.075298",
     "status": "completed"
    },
    "tags": []
   },
   "outputs": [],
   "source": [
    "sampled_indices = tf.random.categorical(\n",
    "    logits=example_batch_predictions[0],\n",
    "    num_samples=1\n",
    ")\n",
    "\n",
    "sampled_indices.shape"
   ]
  },
  {
   "cell_type": "markdown",
   "id": "e8697b35",
   "metadata": {
    "id": "1mndpGRjL5aY",
    "papermill": {
     "duration": 0.043931,
     "end_time": "2024-03-16T14:23:17.236390",
     "exception": false,
     "start_time": "2024-03-16T14:23:17.192459",
     "status": "completed"
    },
    "tags": []
   },
   "source": [
    " This code prints the first 10 elements of a list `sampled_indices`"
   ]
  },
  {
   "cell_type": "code",
   "execution_count": null,
   "id": "21b4f34b",
   "metadata": {
    "execution": {
     "iopub.execute_input": "2024-03-16T14:23:17.326344Z",
     "iopub.status.busy": "2024-03-16T14:23:17.325958Z",
     "iopub.status.idle": "2024-03-16T14:23:17.336465Z",
     "shell.execute_reply": "2024-03-16T14:23:17.335637Z"
    },
    "id": "WGbwYEDfLJvQ",
    "outputId": "09631417-9087-44c4-b8b3-cf741c69d828",
    "papermill": {
     "duration": 0.057455,
     "end_time": "2024-03-16T14:23:17.338269",
     "exception": false,
     "start_time": "2024-03-16T14:23:17.280814",
     "status": "completed"
    },
    "tags": []
   },
   "outputs": [],
   "source": [
    "sampled_indices[:10]"
   ]
  },
  {
   "cell_type": "markdown",
   "id": "29cae5fa",
   "metadata": {
    "id": "h37xkna1I_I2",
    "papermill": {
     "duration": 0.04466,
     "end_time": "2024-03-16T14:23:17.427192",
     "exception": false,
     "start_time": "2024-03-16T14:23:17.382532",
     "status": "completed"
    },
    "tags": []
   },
   "source": [
    "We use `tf.squeeze` to remove any dimensions of size 1 from the `sampled_indices` tensor, converts it into a NumPy array, and then prints the shape of the resulting array.\n",
    "\n",
    "The purpose of this step is to make code simpler"
   ]
  },
  {
   "cell_type": "code",
   "execution_count": null,
   "id": "bd840844",
   "metadata": {
    "execution": {
     "iopub.execute_input": "2024-03-16T14:23:17.519460Z",
     "iopub.status.busy": "2024-03-16T14:23:17.519104Z",
     "iopub.status.idle": "2024-03-16T14:23:17.526531Z",
     "shell.execute_reply": "2024-03-16T14:23:17.525741Z"
    },
    "id": "0NxqPSJlIQbT",
    "outputId": "1f3a6d42-e347-4b00-8d66-31531ac84224",
    "papermill": {
     "duration": 0.055539,
     "end_time": "2024-03-16T14:23:17.528367",
     "exception": false,
     "start_time": "2024-03-16T14:23:17.472828",
     "status": "completed"
    },
    "tags": []
   },
   "outputs": [],
   "source": [
    "sampled_indices = tf.squeeze(sampled_indices).numpy()\n",
    "sampled_indices.shape"
   ]
  },
  {
   "cell_type": "markdown",
   "id": "4889556c",
   "metadata": {
    "id": "tkJtRCjKMT1v",
    "papermill": {
     "duration": 0.046091,
     "end_time": "2024-03-16T14:23:17.619448",
     "exception": false,
     "start_time": "2024-03-16T14:23:17.573357",
     "status": "completed"
    },
    "tags": []
   },
   "source": [
    "This code prints the first 10 elements of a list `sampled_indices` after squeezed"
   ]
  },
  {
   "cell_type": "code",
   "execution_count": null,
   "id": "1eb6ae0b",
   "metadata": {
    "execution": {
     "iopub.execute_input": "2024-03-16T14:23:17.711341Z",
     "iopub.status.busy": "2024-03-16T14:23:17.710783Z",
     "iopub.status.idle": "2024-03-16T14:23:17.716784Z",
     "shell.execute_reply": "2024-03-16T14:23:17.715866Z"
    },
    "id": "vHf5uSm7LAQ_",
    "outputId": "8f2a0298-371e-4185-86fa-41b47da5989b",
    "papermill": {
     "duration": 0.054131,
     "end_time": "2024-03-16T14:23:17.718625",
     "exception": false,
     "start_time": "2024-03-16T14:23:17.664494",
     "status": "completed"
    },
    "tags": []
   },
   "outputs": [],
   "source": [
    "sampled_indices[:10]"
   ]
  },
  {
   "cell_type": "code",
   "execution_count": null,
   "id": "8c8a1f51",
   "metadata": {
    "execution": {
     "iopub.execute_input": "2024-03-16T14:23:17.810019Z",
     "iopub.status.busy": "2024-03-16T14:23:17.809345Z",
     "iopub.status.idle": "2024-03-16T14:23:17.819638Z",
     "shell.execute_reply": "2024-03-16T14:23:17.818696Z"
    },
    "id": "B5UQ3Di_HDpU",
    "outputId": "4ae2db19-7333-4d4d-a108-905c2acbbebe",
    "papermill": {
     "duration": 0.057622,
     "end_time": "2024-03-16T14:23:17.821451",
     "exception": false,
     "start_time": "2024-03-16T14:23:17.763829",
     "status": "completed"
    },
    "tags": []
   },
   "outputs": [],
   "source": [
    "print('Input:\\n', repr(''.join(tokenizer.sequences_to_texts([input_example_batch[0].numpy()[:50]]))))\n",
    "print()\n",
    "print('Next char prediction:\\n', repr(''.join(tokenizer.sequences_to_texts([sampled_indices[:50]]))))"
   ]
  },
  {
   "cell_type": "markdown",
   "id": "b2bae7d5",
   "metadata": {
    "id": "c2nHDT7KLQ5n",
    "papermill": {
     "duration": 0.044689,
     "end_time": "2024-03-16T14:23:17.910719",
     "exception": false,
     "start_time": "2024-03-16T14:23:17.866030",
     "status": "completed"
    },
    "tags": []
   },
   "source": [
    "### Trying the model with variable input"
   ]
  },
  {
   "cell_type": "code",
   "execution_count": null,
   "id": "5e9bda23",
   "metadata": {
    "execution": {
     "iopub.execute_input": "2024-03-16T14:23:18.003942Z",
     "iopub.status.busy": "2024-03-16T14:23:18.003638Z",
     "iopub.status.idle": "2024-03-16T14:23:18.200397Z",
     "shell.execute_reply": "2024-03-16T14:23:18.199421Z"
    },
    "id": "VQh1GAsZLTat",
    "outputId": "449a48f4-63b4-43fc-918f-80e77de78633",
    "papermill": {
     "duration": 0.247137,
     "end_time": "2024-03-16T14:23:18.202866",
     "exception": false,
     "start_time": "2024-03-16T14:23:17.955729",
     "status": "completed"
    },
    "tags": []
   },
   "outputs": [],
   "source": [
    "for input_example_batch_custom, target_example_batch_custom in dataset_train.take(1):\n",
    "    random_input = np.zeros(shape=(BATCH_SIZE, 10))\n",
    "    example_batch_predictions_custom = model(random_input)\n",
    "    print('Prediction shape: ', example_batch_predictions_custom.shape, \"# (batch_size, sequence_length, vocab_size)\\n\")\n",
    "    print('Custom length input: ')\n",
    "    print(random_input)"
   ]
  },
  {
   "cell_type": "markdown",
   "id": "0dbb8ecf",
   "metadata": {
    "id": "bV0iaMFSkGpi",
    "papermill": {
     "duration": 0.045177,
     "end_time": "2024-03-16T14:23:18.294015",
     "exception": false,
     "start_time": "2024-03-16T14:23:18.248838",
     "status": "completed"
    },
    "tags": []
   },
   "source": [
    "## Training the model"
   ]
  },
  {
   "cell_type": "markdown",
   "id": "3976cf81",
   "metadata": {
    "id": "umVu4Km9kT9b",
    "papermill": {
     "duration": 0.046966,
     "end_time": "2024-03-16T14:23:18.386595",
     "exception": false,
     "start_time": "2024-03-16T14:23:18.339629",
     "status": "completed"
    },
    "tags": []
   },
   "source": [
    "### Attach an optimizer, and a loss function"
   ]
  },
  {
   "cell_type": "code",
   "execution_count": null,
   "id": "e4d80929",
   "metadata": {
    "execution": {
     "iopub.execute_input": "2024-03-16T14:23:18.579067Z",
     "iopub.status.busy": "2024-03-16T14:23:18.578643Z",
     "iopub.status.idle": "2024-03-16T14:23:18.616131Z",
     "shell.execute_reply": "2024-03-16T14:23:18.613794Z"
    },
    "id": "taxxBk3qQSSj",
    "outputId": "c7913dd8-1e0d-4dfe-982f-8eff65681e14",
    "papermill": {
     "duration": 0.086869,
     "end_time": "2024-03-16T14:23:18.618040",
     "exception": false,
     "start_time": "2024-03-16T14:23:18.531171",
     "status": "completed"
    },
    "tags": []
   },
   "outputs": [],
   "source": [
    "# An objective function.\n",
    "# The function is any callable with the signature scalar_loss = fn(y_true, y_pred).\n",
    "def loss(labels, logits):\n",
    "    entropy = tf.keras.losses.sparse_categorical_crossentropy(\n",
    "      y_true=labels,\n",
    "      y_pred=logits,\n",
    "      from_logits=True\n",
    "    )\n",
    "\n",
    "    return entropy\n",
    "\n",
    "example_batch_loss = loss(target_example_batch, example_batch_predictions)\n",
    "\n",
    "print(\"Prediction shape: \", example_batch_predictions.shape, \" # (batch_size, sequence_length, vocab_size)\")\n",
    "print(\"scalar_loss.shape:      \", example_batch_loss.shape)\n",
    "print(\"scalar_loss:      \", example_batch_loss.numpy().mean())"
   ]
  },
  {
   "cell_type": "code",
   "execution_count": null,
   "id": "65a5b2c6",
   "metadata": {
    "execution": {
     "iopub.execute_input": "2024-03-16T14:23:18.799431Z",
     "iopub.status.busy": "2024-03-16T14:23:18.799138Z",
     "iopub.status.idle": "2024-03-16T14:23:18.814946Z",
     "shell.execute_reply": "2024-03-16T14:23:18.814240Z"
    },
    "id": "SKQc_EF0VQaR",
    "papermill": {
     "duration": 0.063842,
     "end_time": "2024-03-16T14:23:18.816834",
     "exception": false,
     "start_time": "2024-03-16T14:23:18.752992",
     "status": "completed"
    },
    "tags": []
   },
   "outputs": [],
   "source": [
    "adam_optimizer = tf.keras.optimizers.Adam(learning_rate=0.001)\n",
    "\n",
    "model.compile(\n",
    "    optimizer=adam_optimizer,\n",
    "    loss=loss,\n",
    "    metrics=['accuracy']\n",
    ")"
   ]
  },
  {
   "cell_type": "markdown",
   "id": "515f0e69",
   "metadata": {
    "id": "tJ3esbgbrNpc",
    "papermill": {
     "duration": 0.044804,
     "end_time": "2024-03-16T14:23:18.906687",
     "exception": false,
     "start_time": "2024-03-16T14:23:18.861883",
     "status": "completed"
    },
    "tags": []
   },
   "source": [
    "### Creating a checkpoints directory"
   ]
  },
  {
   "cell_type": "code",
   "execution_count": null,
   "id": "eab66894",
   "metadata": {
    "execution": {
     "iopub.execute_input": "2024-03-16T14:23:19.092735Z",
     "iopub.status.busy": "2024-03-16T14:23:19.092017Z",
     "iopub.status.idle": "2024-03-16T14:23:19.096565Z",
     "shell.execute_reply": "2024-03-16T14:23:19.095786Z"
    },
    "id": "uMCPsahRrMlx",
    "papermill": {
     "duration": 0.054215,
     "end_time": "2024-03-16T14:23:19.098416",
     "exception": false,
     "start_time": "2024-03-16T14:23:19.044201",
     "status": "completed"
    },
    "tags": []
   },
   "outputs": [],
   "source": [
    "checkpoint_dir = 'tmp/checkpoints'\n",
    "os.makedirs(checkpoint_dir, exist_ok=True)"
   ]
  },
  {
   "cell_type": "markdown",
   "id": "e2d3fa25",
   "metadata": {
    "id": "kNMuGh6OkYgO",
    "papermill": {
     "duration": 0.045501,
     "end_time": "2024-03-16T14:23:19.190229",
     "exception": false,
     "start_time": "2024-03-16T14:23:19.144728",
     "status": "completed"
    },
    "tags": []
   },
   "source": [
    "### Configuring callbacks"
   ]
  },
  {
   "cell_type": "code",
   "execution_count": null,
   "id": "43209dbc",
   "metadata": {
    "execution": {
     "iopub.execute_input": "2024-03-16T14:23:19.372144Z",
     "iopub.status.busy": "2024-03-16T14:23:19.371801Z",
     "iopub.status.idle": "2024-03-16T14:23:19.376456Z",
     "shell.execute_reply": "2024-03-16T14:23:19.375601Z"
    },
    "id": "2C0WQ2t2pDes",
    "papermill": {
     "duration": 0.052911,
     "end_time": "2024-03-16T14:23:19.378300",
     "exception": false,
     "start_time": "2024-03-16T14:23:19.325389",
     "status": "completed"
    },
    "tags": []
   },
   "outputs": [],
   "source": [
    "early_stopping_callback = tf.keras.callbacks.EarlyStopping(\n",
    "    patience=5,\n",
    "    monitor='loss',\n",
    "    restore_best_weights=True,\n",
    "    verbose=1\n",
    ")"
   ]
  },
  {
   "cell_type": "code",
   "execution_count": null,
   "id": "d8e84067",
   "metadata": {
    "execution": {
     "iopub.execute_input": "2024-03-16T14:23:19.560719Z",
     "iopub.status.busy": "2024-03-16T14:23:19.560371Z",
     "iopub.status.idle": "2024-03-16T14:23:19.564983Z",
     "shell.execute_reply": "2024-03-16T14:23:19.564093Z"
    },
    "id": "-f0QNGU2ruCY",
    "papermill": {
     "duration": 0.05237,
     "end_time": "2024-03-16T14:23:19.566764",
     "exception": false,
     "start_time": "2024-03-16T14:23:19.514394",
     "status": "completed"
    },
    "tags": []
   },
   "outputs": [],
   "source": [
    "checkpoint_prefix = os.path.join(checkpoint_dir, 'ckpt_{epoch}')\n",
    "checkpoint_callback=tf.keras.callbacks.ModelCheckpoint(\n",
    "    filepath=checkpoint_prefix,\n",
    "    save_weights_only=True\n",
    ")"
   ]
  },
  {
   "cell_type": "markdown",
   "id": "a638f00b",
   "metadata": {
    "id": "2un8oTRj89Nu",
    "papermill": {
     "duration": 0.046784,
     "end_time": "2024-03-16T14:23:19.660055",
     "exception": false,
     "start_time": "2024-03-16T14:23:19.613271",
     "status": "completed"
    },
    "tags": []
   },
   "source": [
    "### Execute the training"
   ]
  },
  {
   "cell_type": "code",
   "execution_count": null,
   "id": "aa15c755",
   "metadata": {
    "execution": {
     "iopub.execute_input": "2024-03-16T14:23:19.853261Z",
     "iopub.status.busy": "2024-03-16T14:23:19.852909Z",
     "iopub.status.idle": "2024-03-16T14:23:19.857530Z",
     "shell.execute_reply": "2024-03-16T14:23:19.856604Z"
    },
    "id": "WTT0ACjj9CJ0",
    "papermill": {
     "duration": 0.057818,
     "end_time": "2024-03-16T14:23:19.859730",
     "exception": false,
     "start_time": "2024-03-16T14:23:19.801912",
     "status": "completed"
    },
    "tags": []
   },
   "outputs": [],
   "source": [
    "EPOCHS = 60\n",
    "INITIAL_EPOCH = 1\n",
    "STEPS_PER_EPOCH = 700"
   ]
  },
  {
   "cell_type": "code",
   "execution_count": null,
   "id": "e4fb415f",
   "metadata": {
    "execution": {
     "iopub.execute_input": "2024-03-16T14:23:20.052441Z",
     "iopub.status.busy": "2024-03-16T14:23:20.051510Z",
     "iopub.status.idle": "2024-03-16T17:50:57.186129Z",
     "shell.execute_reply": "2024-03-16T17:50:57.185186Z"
    },
    "id": "8Iu26cqF9Ii4",
    "outputId": "26ae08cf-0da9-4c17-85a8-d38d666a7aaa",
    "papermill": {
     "duration": 12457.189351,
     "end_time": "2024-03-16T17:50:57.188139",
     "exception": false,
     "start_time": "2024-03-16T14:23:19.998788",
     "status": "completed"
    },
    "tags": []
   },
   "outputs": [],
   "source": [
    "\n",
    "history = model.fit(\n",
    "    x=dataset_train,\n",
    "    epochs=EPOCHS,\n",
    "    steps_per_epoch=STEPS_PER_EPOCH,\n",
    "    initial_epoch=INITIAL_EPOCH,\n",
    "    callbacks=[\n",
    "        checkpoint_callback,\n",
    "        early_stopping_callback\n",
    "    ]\n",
    ")"
   ]
  },
  {
   "cell_type": "markdown",
   "id": "32d1e240",
   "metadata": {
    "id": "3MLHcmTkhvm5",
    "papermill": {
     "duration": 3.603462,
     "end_time": "2024-03-16T17:51:04.166241",
     "exception": false,
     "start_time": "2024-03-16T17:51:00.562779",
     "status": "completed"
    },
    "tags": []
   },
   "source": [
    "### Saving the trained model to file"
   ]
  },
  {
   "cell_type": "code",
   "execution_count": null,
   "id": "9047eff9",
   "metadata": {
    "execution": {
     "iopub.execute_input": "2024-03-16T17:51:18.206256Z",
     "iopub.status.busy": "2024-03-16T17:51:18.205895Z",
     "iopub.status.idle": "2024-03-16T17:51:18.312728Z",
     "shell.execute_reply": "2024-03-16T17:51:18.311808Z"
    },
    "id": "F_Lgm0a1f3-X",
    "outputId": "c4e4a5df-3597-4e60-fa87-9fa8fc53e058",
    "papermill": {
     "duration": 3.753293,
     "end_time": "2024-03-16T17:51:18.314778",
     "exception": false,
     "start_time": "2024-03-16T17:51:14.561485",
     "status": "completed"
    },
    "tags": []
   },
   "outputs": [],
   "source": [
    "model_name = 'recipe_generation_rnn_raw_' + str(INITIAL_EPOCH) + '.h5'\n",
    "model.save(model_name, save_format='h5')"
   ]
  },
  {
   "cell_type": "markdown",
   "id": "351da50a",
   "metadata": {
    "id": "XazsPU5Fim5R",
    "papermill": {
     "duration": 3.630756,
     "end_time": "2024-03-16T17:51:25.299901",
     "exception": false,
     "start_time": "2024-03-16T17:51:21.669145",
     "status": "completed"
    },
    "tags": []
   },
   "source": [
    "### Visualizing training progress"
   ]
  },
  {
   "cell_type": "code",
   "execution_count": null,
   "id": "5ca611e7",
   "metadata": {
    "execution": {
     "iopub.execute_input": "2024-03-16T17:51:39.386560Z",
     "iopub.status.busy": "2024-03-16T17:51:39.385934Z",
     "iopub.status.idle": "2024-03-16T17:51:39.391901Z",
     "shell.execute_reply": "2024-03-16T17:51:39.391015Z"
    },
    "id": "kS3hINGxiLei",
    "papermill": {
     "duration": 3.596338,
     "end_time": "2024-03-16T17:51:39.393796",
     "exception": false,
     "start_time": "2024-03-16T17:51:35.797458",
     "status": "completed"
    },
    "tags": []
   },
   "outputs": [],
   "source": [
    "def render_training_history_loss(training_history):\n",
    "    loss = training_history.history['loss']\n",
    "\n",
    "    plt.title('Loss')\n",
    "    plt.xlabel('Epoch')\n",
    "    plt.ylabel('Loss')\n",
    "    plt.plot(loss, label='Training set')\n",
    "    plt.legend()\n",
    "    plt.grid(linestyle='--', linewidth=1, alpha=0.5)\n",
    "    plt.show()"
   ]
  },
  {
   "cell_type": "code",
   "execution_count": null,
   "id": "9f1932d4",
   "metadata": {
    "execution": {
     "iopub.execute_input": "2024-03-16T17:51:46.490304Z",
     "iopub.status.busy": "2024-03-16T17:51:46.489918Z",
     "iopub.status.idle": "2024-03-16T17:51:46.728418Z",
     "shell.execute_reply": "2024-03-16T17:51:46.727501Z"
    },
    "id": "yoe2DL4bxfnm",
    "outputId": "1ad6adf6-7e52-4675-9f10-6135f6e03c64",
    "papermill": {
     "duration": 3.850602,
     "end_time": "2024-03-16T17:51:46.730472",
     "exception": false,
     "start_time": "2024-03-16T17:51:42.879870",
     "status": "completed"
    },
    "tags": []
   },
   "outputs": [],
   "source": [
    "render_training_history_loss(history)"
   ]
  },
  {
   "cell_type": "code",
   "execution_count": null,
   "id": "e98f84db",
   "metadata": {
    "execution": {
     "iopub.execute_input": "2024-03-16T17:51:53.746375Z",
     "iopub.status.busy": "2024-03-16T17:51:53.745997Z",
     "iopub.status.idle": "2024-03-16T17:51:53.751957Z",
     "shell.execute_reply": "2024-03-16T17:51:53.751149Z"
    },
    "papermill": {
     "duration": 3.652971,
     "end_time": "2024-03-16T17:51:53.753900",
     "exception": false,
     "start_time": "2024-03-16T17:51:50.100929",
     "status": "completed"
    },
    "tags": []
   },
   "outputs": [],
   "source": [
    "def render_training_history_accuracy(training_history):\n",
    "    accuracy = training_history.history['accuracy']\n",
    "\n",
    "    plt.title('Accuracy')\n",
    "    plt.xlabel('Epoch')\n",
    "    plt.ylabel('Accuracy')\n",
    "    plt.plot(accuracy, label='Training set')\n",
    "    plt.legend()\n",
    "    plt.grid(linestyle='--', linewidth=1, alpha=0.5)\n",
    "    plt.show()"
   ]
  },
  {
   "cell_type": "code",
   "execution_count": null,
   "id": "23ff8dd7",
   "metadata": {
    "execution": {
     "iopub.execute_input": "2024-03-16T17:52:00.675241Z",
     "iopub.status.busy": "2024-03-16T17:52:00.674860Z",
     "iopub.status.idle": "2024-03-16T17:52:00.882859Z",
     "shell.execute_reply": "2024-03-16T17:52:00.881951Z"
    },
    "papermill": {
     "duration": 3.736444,
     "end_time": "2024-03-16T17:52:00.885114",
     "exception": false,
     "start_time": "2024-03-16T17:51:57.148670",
     "status": "completed"
    },
    "tags": []
   },
   "outputs": [],
   "source": [
    "render_training_history_accuracy(history)"
   ]
  },
  {
   "cell_type": "markdown",
   "id": "def6ce39",
   "metadata": {
    "papermill": {
     "duration": 3.497005,
     "end_time": "2024-03-16T17:52:07.984187",
     "exception": false,
     "start_time": "2024-03-16T17:52:04.487182",
     "status": "completed"
    },
    "tags": []
   },
   "source": [
    "# Test the model"
   ]
  },
  {
   "cell_type": "code",
   "execution_count": null,
   "id": "9c0becf9",
   "metadata": {
    "execution": {
     "iopub.execute_input": "2024-03-16T17:52:14.970049Z",
     "iopub.status.busy": "2024-03-16T17:52:14.969009Z",
     "iopub.status.idle": "2024-03-16T17:54:26.201960Z",
     "shell.execute_reply": "2024-03-16T17:54:26.201063Z"
    },
    "papermill": {
     "duration": 135.094667,
     "end_time": "2024-03-16T17:54:26.493909",
     "exception": false,
     "start_time": "2024-03-16T17:52:11.399242",
     "status": "completed"
    },
    "tags": []
   },
   "outputs": [],
   "source": [
    "# prompt: test data using data_test\n",
    "\n",
    "test_data = tf.data.Dataset.from_tensor_slices(data_test)\n",
    "\n",
    "# Apply the transformation function to each element in the dataset\n",
    "test_data = test_data.map(transform_element)\n",
    "\n",
    "# Shuffle and batch the dataset\n",
    "test_data = test_data.shuffle(SHUFFLE_BUFFER_SIZE).batch(BATCH_SIZE, drop_remainder=True)\n",
    "\n",
    "model.evaluate(test_data)"
   ]
  },
  {
   "cell_type": "markdown",
   "id": "6fd9b90d",
   "metadata": {
    "id": "nQYiKiKfn5C9",
    "papermill": {
     "duration": 3.619805,
     "end_time": "2024-03-16T17:54:33.532642",
     "exception": false,
     "start_time": "2024-03-16T17:54:29.912837",
     "status": "completed"
    },
    "tags": []
   },
   "source": [
    "## Generating text"
   ]
  },
  {
   "cell_type": "markdown",
   "id": "db8e99cc",
   "metadata": {
    "id": "Mau8c_NMn6vO",
    "papermill": {
     "duration": 3.369769,
     "end_time": "2024-03-16T17:54:40.413758",
     "exception": false,
     "start_time": "2024-03-16T17:54:37.043989",
     "status": "completed"
    },
    "tags": []
   },
   "source": [
    "### Restore the latest checkpoint"
   ]
  },
  {
   "cell_type": "code",
   "execution_count": null,
   "id": "5793276e",
   "metadata": {
    "execution": {
     "iopub.execute_input": "2024-03-16T17:54:54.669093Z",
     "iopub.status.busy": "2024-03-16T17:54:54.668716Z",
     "iopub.status.idle": "2024-03-16T17:54:54.675369Z",
     "shell.execute_reply": "2024-03-16T17:54:54.674477Z"
    },
    "id": "VFtTGIUwn_wY",
    "outputId": "83e4de7c-420f-481a-98fa-589db87f3e4a",
    "papermill": {
     "duration": 3.658032,
     "end_time": "2024-03-16T17:54:54.677483",
     "exception": false,
     "start_time": "2024-03-16T17:54:51.019451",
     "status": "completed"
    },
    "tags": []
   },
   "outputs": [],
   "source": [
    "tf.train.latest_checkpoint(checkpoint_dir)"
   ]
  },
  {
   "cell_type": "markdown",
   "id": "173921ef",
   "metadata": {
    "id": "3g6c9hFp0ltH",
    "papermill": {
     "duration": 3.543444,
     "end_time": "2024-03-16T17:55:01.742730",
     "exception": false,
     "start_time": "2024-03-16T17:54:58.199286",
     "status": "completed"
    },
    "tags": []
   },
   "source": [
    "#### Creating simplified version of the model"
   ]
  },
  {
   "cell_type": "markdown",
   "id": "0a52b685",
   "metadata": {
    "id": "JuSc81J018ge",
    "papermill": {
     "duration": 3.608522,
     "end_time": "2024-03-16T17:55:08.894353",
     "exception": false,
     "start_time": "2024-03-16T17:55:05.285831",
     "status": "completed"
    },
    "tags": []
   },
   "source": [
    "This code sets the `simplified_batch_size` to 1"
   ]
  },
  {
   "cell_type": "code",
   "execution_count": null,
   "id": "8e771a77",
   "metadata": {
    "execution": {
     "iopub.execute_input": "2024-03-16T17:55:15.952101Z",
     "iopub.status.busy": "2024-03-16T17:55:15.951705Z",
     "iopub.status.idle": "2024-03-16T17:55:15.955863Z",
     "shell.execute_reply": "2024-03-16T17:55:15.955076Z"
    },
    "id": "NDnlcAYe0OHJ",
    "papermill": {
     "duration": 3.671425,
     "end_time": "2024-03-16T17:55:15.957800",
     "exception": false,
     "start_time": "2024-03-16T17:55:12.286375",
     "status": "completed"
    },
    "tags": []
   },
   "outputs": [],
   "source": [
    "simplified_batch_size = 1"
   ]
  },
  {
   "cell_type": "code",
   "execution_count": null,
   "id": "cb3591f1",
   "metadata": {
    "execution": {
     "iopub.execute_input": "2024-03-16T17:55:30.113274Z",
     "iopub.status.busy": "2024-03-16T17:55:30.112902Z",
     "iopub.status.idle": "2024-03-16T17:55:30.416386Z",
     "shell.execute_reply": "2024-03-16T17:55:30.415622Z"
    },
    "id": "F0vDHYTi01DM",
    "papermill": {
     "duration": 3.960571,
     "end_time": "2024-03-16T17:55:30.418549",
     "exception": false,
     "start_time": "2024-03-16T17:55:26.457978",
     "status": "completed"
    },
    "tags": []
   },
   "outputs": [],
   "source": [
    "model_simplified = build_model(vocab_size=VOCABULARY_SIZE,\n",
    "  embedding_dim=256,\n",
    "  rnn_units=1024,\n",
    "  batch_size=simplified_batch_size)\n",
    "model_simplified.load_weights(tf.train.latest_checkpoint(\"tmp/checkpoints\"))\n",
    "model_simplified.build(tf.TensorShape([simplified_batch_size, None]))"
   ]
  },
  {
   "cell_type": "markdown",
   "id": "46869a65",
   "metadata": {
    "id": "jDyaQp_02P3t",
    "papermill": {
     "duration": 3.670616,
     "end_time": "2024-03-16T17:55:37.519901",
     "exception": false,
     "start_time": "2024-03-16T17:55:33.849285",
     "status": "completed"
    },
    "tags": []
   },
   "source": [
    "This code  prints a summary of the simplified model's architecture. This provides information about the model's layers, their shapes, and the number of trainable parameters."
   ]
  },
  {
   "cell_type": "code",
   "execution_count": null,
   "id": "7aded430",
   "metadata": {
    "execution": {
     "iopub.execute_input": "2024-03-16T17:55:44.575782Z",
     "iopub.status.busy": "2024-03-16T17:55:44.575391Z",
     "iopub.status.idle": "2024-03-16T17:55:44.593467Z",
     "shell.execute_reply": "2024-03-16T17:55:44.592496Z"
    },
    "id": "8IsCMv4l1KHW",
    "outputId": "faa61f2d-7449-4f0b-fe5d-6ffdf41ede9b",
    "papermill": {
     "duration": 3.475808,
     "end_time": "2024-03-16T17:55:44.599512",
     "exception": false,
     "start_time": "2024-03-16T17:55:41.123704",
     "status": "completed"
    },
    "tags": []
   },
   "outputs": [],
   "source": [
    "model_simplified.summary()"
   ]
  },
  {
   "cell_type": "markdown",
   "id": "f9f3288d",
   "metadata": {
    "id": "3BG9npNr3dfl",
    "papermill": {
     "duration": 3.716813,
     "end_time": "2024-03-16T17:55:51.787885",
     "exception": false,
     "start_time": "2024-03-16T17:55:48.071072",
     "status": "completed"
    },
    "tags": []
   },
   "source": [
    "This specifies the number of features or variables and the order in which they should be provided to the model for processing."
   ]
  },
  {
   "cell_type": "code",
   "execution_count": null,
   "id": "b2e6a604",
   "metadata": {
    "execution": {
     "iopub.execute_input": "2024-03-16T17:55:58.946781Z",
     "iopub.status.busy": "2024-03-16T17:55:58.945869Z",
     "iopub.status.idle": "2024-03-16T17:55:58.952189Z",
     "shell.execute_reply": "2024-03-16T17:55:58.951268Z"
    },
    "id": "Ub4KLTr52b5x",
    "outputId": "e2ca1a05-5732-4a4c-c946-032b50ca8bb6",
    "papermill": {
     "duration": 3.665482,
     "end_time": "2024-03-16T17:55:58.954257",
     "exception": false,
     "start_time": "2024-03-16T17:55:55.288775",
     "status": "completed"
    },
    "tags": []
   },
   "outputs": [],
   "source": [
    "model_simplified.input_shape"
   ]
  },
  {
   "cell_type": "code",
   "execution_count": null,
   "id": "a85d73ed",
   "metadata": {
    "execution": {
     "iopub.execute_input": "2024-03-16T17:56:13.243083Z",
     "iopub.status.busy": "2024-03-16T17:56:13.242696Z",
     "iopub.status.idle": "2024-03-16T17:56:13.251130Z",
     "shell.execute_reply": "2024-03-16T17:56:13.250261Z"
    },
    "id": "u5YfR0N84kLi",
    "papermill": {
     "duration": 3.722778,
     "end_time": "2024-03-16T17:56:13.253217",
     "exception": false,
     "start_time": "2024-03-16T17:56:09.530439",
     "status": "completed"
    },
    "tags": []
   },
   "outputs": [],
   "source": [
    "def generate_text(model, start_string, num_generate = 1000):\n",
    "    # Evaluation step (generating text using the learned model)\n",
    "\n",
    "    padded_start_string = STOP_WORD_TITLE + start_string\n",
    "\n",
    "    # Converting our start string to numbers (vectorizing).\n",
    "    input_indices = np.array(tokenizer.texts_to_sequences([padded_start_string]))\n",
    "\n",
    "    # Empty string to store our results.\n",
    "    text_generated = []\n",
    "\n",
    "    # Here batch size == 1.\n",
    "    model.reset_states()\n",
    "    for char_index in range(num_generate):\n",
    "        predictions = model(input_indices)\n",
    "        # remove the batch dimension\n",
    "        predictions = tf.squeeze(predictions, 0)\n",
    "\n",
    "        # Using a categorical distribution to predict the character returned by the model.\n",
    "        predicted_id = tf.random.categorical(\n",
    "            predictions,\n",
    "            num_samples=1\n",
    "        )[-1,0].numpy()\n",
    "\n",
    "        # We pass the predicted character as the next input to the model\n",
    "        # along with the previous hidden state.\n",
    "        input_indices = tf.expand_dims([predicted_id], 0)\n",
    "\n",
    "        next_character = tokenizer.sequences_to_texts(input_indices.numpy())[0]\n",
    "\n",
    "        text_generated.append(next_character)\n",
    "\n",
    "    return (padded_start_string + ''.join(text_generated))"
   ]
  },
  {
   "cell_type": "markdown",
   "id": "2996bf4f",
   "metadata": {
    "id": "R2vHWq2olutu",
    "papermill": {
     "duration": 3.640369,
     "end_time": "2024-03-16T17:56:20.325835",
     "exception": false,
     "start_time": "2024-03-16T17:56:16.685466",
     "status": "completed"
    },
    "tags": []
   },
   "source": [
    "This code defines a function generate_combinations that generates text using different combinations of input strings and temperature values. Here's a breakdown of what it does:\n",
    "\n",
    "**recipe_length = 751**: This line sets the length of the generated text to 1000 characters.\n",
    "\n",
    "**ingredients = input(\"Enter your ingredients (One or two ingredients): \")**: This line prompts the user to enter one or two ingredients using the input function and assigns the user's input to the variable ingredients.\n",
    "\n",
    "\n",
    "\n",
    "**generated_text = generate_text(model, start_string=letter, num_generate = recipe_length, temperature=temperature)**: This line generates text using the generate_text function. The model argument is the trained machine learning model, start_string is the ingredients string, and num_generate is the length of the generated text.\n",
    "\n",
    "**print(f'Attempt: \"{letter}\")**: This line prints a message indicating the current input string .\n",
    "\n",
    "**print('-----------------------------------')**: This line prints a separator line.\n",
    "\n",
    "**print(generated_text)**: This line prints the generated text.\n",
    "\n",
    "**print('\\n\\n')**: This line prints a blank line to separate the generated text from the next iteration.\n"
   ]
  },
  {
   "cell_type": "code",
   "execution_count": null,
   "id": "d7d5ad5b",
   "metadata": {
    "execution": {
     "iopub.execute_input": "2024-03-16T17:56:27.326302Z",
     "iopub.status.busy": "2024-03-16T17:56:27.325333Z",
     "iopub.status.idle": "2024-03-16T17:56:27.331557Z",
     "shell.execute_reply": "2024-03-16T17:56:27.330681Z"
    },
    "id": "2lcLuauRDMMS",
    "papermill": {
     "duration": 3.405259,
     "end_time": "2024-03-16T17:56:27.333411",
     "exception": false,
     "start_time": "2024-03-16T17:56:23.928152",
     "status": "completed"
    },
    "tags": []
   },
   "outputs": [],
   "source": [
    "def generate_combinations(model):\n",
    "    recipe_length = 751\n",
    "    ingredients = ['rice ','potato ','pasta ','onion ','chicken ','meat ','salt ',\n",
    "                   'sugar ','fish ','cheese ','toamato ','chocolate ','vanilla ']\n",
    "    for ingredient in ingredients:\n",
    "        generated_text = generate_text(\n",
    "        model,\n",
    "        start_string=ingredient,\n",
    "        num_generate = recipe_length,\n",
    "        )\n",
    "        print(f'Attempt: \"{ingredient}\"')\n",
    "        print('-----------------------------------')\n",
    "        print(generated_text)\n",
    "        print('\\n\\n')"
   ]
  },
  {
   "cell_type": "code",
   "execution_count": null,
   "id": "aebc869d",
   "metadata": {
    "execution": {
     "iopub.execute_input": "2024-03-16T17:56:34.509524Z",
     "iopub.status.busy": "2024-03-16T17:56:34.509130Z",
     "iopub.status.idle": "2024-03-16T17:57:55.880200Z",
     "shell.execute_reply": "2024-03-16T17:57:55.879271Z"
    },
    "id": "xhvbqSiEbZeU",
    "outputId": "1c2eefaa-380e-4f83-b317-12e30ff737c3",
    "papermill": {
     "duration": 85.068297,
     "end_time": "2024-03-16T17:57:55.882440",
     "exception": false,
     "start_time": "2024-03-16T17:56:30.814143",
     "status": "completed"
    },
    "tags": []
   },
   "outputs": [],
   "source": [
    "generate_combinations(model_simplified)"
   ]
  },
  {
   "cell_type": "code",
   "execution_count": null,
   "id": "64937b46",
   "metadata": {
    "execution": {
     "iopub.execute_input": "2024-03-16T17:58:02.981341Z",
     "iopub.status.busy": "2024-03-16T17:58:02.980966Z",
     "iopub.status.idle": "2024-03-16T17:58:02.986562Z",
     "shell.execute_reply": "2024-03-16T17:58:02.985718Z"
    },
    "papermill": {
     "duration": 3.525868,
     "end_time": "2024-03-16T17:58:02.988550",
     "exception": false,
     "start_time": "2024-03-16T17:57:59.462682",
     "status": "completed"
    },
    "tags": []
   },
   "outputs": [],
   "source": [
    "def generate_combinations(model):\n",
    "    recipe_length = 751\n",
    "    ingredients = input(\"Enter your ingredients (One or two ingredients): \")\n",
    "    generated_text = generate_text(\n",
    "        model,\n",
    "        start_string=ingredients,\n",
    "        num_generate = recipe_length\n",
    "    )\n",
    "    print(f'Attempt: \"{ingredients}\"')\n",
    "    print('-----------------------------------')\n",
    "    print(generated_text)\n",
    "    print('\\n\\n')"
   ]
  },
  {
   "cell_type": "code",
   "execution_count": null,
   "id": "a822e6d3",
   "metadata": {
    "execution": {
     "iopub.execute_input": "2024-03-16T17:58:10.287821Z",
     "iopub.status.busy": "2024-03-16T17:58:10.287424Z",
     "iopub.status.idle": "2024-03-16T17:58:11.094604Z",
     "shell.execute_reply": "2024-03-16T17:58:11.093328Z"
    },
    "papermill": {
     "duration": 4.463171,
     "end_time": "2024-03-16T17:58:11.096317",
     "exception": true,
     "start_time": "2024-03-16T17:58:06.633146",
     "status": "failed"
    },
    "tags": []
   },
   "outputs": [],
   "source": [
    "generate_combinations(model_simplified)"
   ]
  },
  {
   "cell_type": "code",
   "execution_count": null,
   "id": "9bfc2231",
   "metadata": {
    "papermill": {
     "duration": null,
     "end_time": null,
     "exception": null,
     "start_time": null,
     "status": "pending"
    },
    "tags": []
   },
   "outputs": [],
   "source": []
  },
  {
   "cell_type": "code",
   "execution_count": null,
   "id": "35dd55c2",
   "metadata": {
    "papermill": {
     "duration": null,
     "end_time": null,
     "exception": null,
     "start_time": null,
     "status": "pending"
    },
    "tags": []
   },
   "outputs": [],
   "source": []
  }
 ],
 "metadata": {
  "accelerator": "GPU",
  "colab": {
   "provenance": []
  },
  "kaggle": {
   "accelerator": "gpu",
   "dataSources": [
    {
     "datasetId": 1063627,
     "sourceId": 1789966,
     "sourceType": "datasetVersion"
    },
    {
     "datasetId": 3454349,
     "sourceId": 6041428,
     "sourceType": "datasetVersion"
    },
    {
     "datasetId": 4363922,
     "sourceId": 7494590,
     "sourceType": "datasetVersion"
    }
   ],
   "dockerImageVersionId": 30636,
   "isGpuEnabled": true,
   "isInternetEnabled": true,
   "language": "python",
   "sourceType": "notebook"
  },
  "kernelspec": {
   "display_name": "Python 3",
   "language": "python",
   "name": "python3"
  },
  "language_info": {
   "codemirror_mode": {
    "name": "ipython",
    "version": 3
   },
   "file_extension": ".py",
   "mimetype": "text/x-python",
   "name": "python",
   "nbconvert_exporter": "python",
   "pygments_lexer": "ipython3",
   "version": "3.11.0"
  },
  "papermill": {
   "default_parameters": {},
   "duration": 13043.935098,
   "end_time": "2024-03-16T17:58:18.283781",
   "environment_variables": {},
   "exception": true,
   "input_path": "__notebook__.ipynb",
   "output_path": "__notebook__.ipynb",
   "parameters": {},
   "start_time": "2024-03-16T14:20:54.348683",
   "version": "2.4.0"
  }
 },
 "nbformat": 4,
 "nbformat_minor": 5
}
